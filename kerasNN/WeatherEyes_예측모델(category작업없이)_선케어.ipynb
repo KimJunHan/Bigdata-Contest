{
 "cells": [
  {
   "cell_type": "code",
   "execution_count": 1,
   "metadata": {},
   "outputs": [],
   "source": [
    "# 필요한 기본 패키지 준비\n",
    "\n",
    "# 데이터 처리 필요 패키지\n",
    "import numpy as np\n",
    "import pandas as pd\n",
    "import datetime as dt\n",
    "import math\n",
    "\n",
    "# 시각화 필요 패키지\n",
    "%matplotlib inline\n",
    "from plotnine import *\n",
    "import folium\n",
    "import matplotlib\n",
    "import matplotlib.pyplot as plt\n",
    "from matplotlib import rc, font_manager\n",
    "import seaborn as sns\n",
    "\n",
    "\n",
    "# Machine Learning 분석 환경 준비\n",
    "\n",
    "# 전처리, 스케일링\n",
    "from sklearn.preprocessing import StandardScaler\n",
    "\n",
    "# 선형회귀분석\n",
    "from sklearn.linear_model import LinearRegression\n",
    "from sklearn.linear_model import Ridge\n",
    "from sklearn.linear_model import Lasso\n",
    "from scipy import stats\n",
    "\n",
    "# OLS회귀분석\n",
    "import statsmodels.api as sm\n",
    "\n",
    "# GAM 일반화가법모형\n",
    "# LinearGAM, LogisticGAM, PoissonGAM, GammaGAM, InvGuss\n",
    "from pygam import LinearGAM, LogisticGAM, PoissonGAM, GammaGAM\n",
    "\n",
    "# Boosting\n",
    "\n",
    "#데이터셋 분리\n",
    "from sklearn.model_selection import train_test_split\n",
    "\n",
    "\n",
    "\n",
    "# 한글 처리\n",
    "font_name = font_manager.FontProperties(fname='C:/Windows/Fonts/NanumGothicCoding.ttf').get_name()\n",
    "rc('font',family=font_name)\n",
    "\n",
    "# - 마이너스 사인 처리\n",
    "matplotlib.rcParams['axes.unicode_minus'] = False\n",
    "\n",
    "# jupyter notebook에서 warning 무시하기\n",
    "import warnings\n",
    "warnings.filterwarnings(\"ignore\")"
   ]
  },
  {
   "cell_type": "code",
   "execution_count": 2,
   "metadata": {},
   "outputs": [],
   "source": [
    "#########################################################################\n",
    "# MAD 기반 예제코드\n",
    "def mad_based_outlier(points, thresh=3.5):\n",
    "    if len(points.shape) == 1:\n",
    "        points = points[:,None]\n",
    "    median = np.median(points, axis=0)\n",
    "    diff = np.sum((points - median)**2, axis=-1)\n",
    "    diff = np.sqrt(diff)\n",
    "    med_abs_deviation = np.median(diff)\n",
    "    modified_z_score = 0.6745 * diff / med_abs_deviation\n",
    "    return modified_z_score > thresh \n",
    "\n",
    "# 출처: https://pythonanalysis.tistory.com/7 [Python 데이터 분석]\n",
    "#########################################################################\n",
    "\n",
    "# 소셜 데이터 처리를 위한 함수\n",
    "# 1. 모든 소셜 데이터 column들의 첫번째는 : 날짜다.\n",
    "# 2. 각 소셜데이터는 social_키워드.블로그/트위터/뉴스/총합 으로 되어 있다.\n",
    "def changeColNames(d,before, after) : \n",
    "    # 컬럼이름 시리즈로 만들어 반환\n",
    "    # 통합하기 쉽게, 모든 데이터들의 날짜컬럼 이름을 date로 통일\n",
    "    new_col_names = ['date']\n",
    "    new_col_names.extend(list(d.columns)[1:])\n",
    "    d.columns = new_col_names\n",
    "    return pd.Series(d.columns).apply(lambda x : x.replace(before,after))\n",
    "\n",
    "#########################################################################\n",
    "# modeling 함수로 만들어 처리하기\n",
    "def linReg(df, item, cols_using):\n",
    "    cols = cols_using\n",
    "    X = df.loc[df['category']==item, cols]\n",
    "    y = df.loc[df['category']==item,'qty']\n",
    "\n",
    "    X_train, X_test, y_train, y_test = train_test_split(X,y, test_size=0.3, random_state=0)\n",
    "\n",
    "    model = LinearRegression().fit(X_train, y_train)\n",
    "  \n",
    "    print('LinearRegression을 이용한 %s의 회귀분석 결과 :'%item)\n",
    "    print('훈련세트점수 : {:.2f}'.format(model.score(X_train, y_train)))\n",
    "    print('검증세트점수 : {:.2f}'.format(model.score(X_test, y_test)))\n",
    "\n",
    "    \n",
    "def ridgeReg(df, item, cols_using):\n",
    "    cols = cols_using\n",
    "    X = df.loc[df['category']==item,cols]\n",
    "    y = df.loc[df['category']==item,'qty']\n",
    "\n",
    "    X_train, X_test, y_train, y_test = train_test_split(X,y, test_size=0.3, random_state=0)\n",
    "\n",
    "    ridge = Ridge(alpha=0.1, normalize=True, random_state=0, tol=0.001).fit(X_train, y_train)\n",
    "    \n",
    "    print('RidgeRegression을 이용한 %s의 회귀분석 결과 :'%item)\n",
    "    print('훈련세트점수 : {:.2f}'.format(ridge.score(X_train, y_train)))\n",
    "    print('검증세트점수 : {:.2f}'.format(ridge.score(X_test, y_test)))\n",
    "\n",
    "\n",
    "def lassoReg(df, item, cols_using):\n",
    "    cols = cols_using\n",
    "    X = df.loc[df['category']==item,cols]\n",
    "    y = df.loc[df['category']==item,'qty']\n",
    "\n",
    "    X_train, X_test, y_train, y_test = train_test_split(X,y, test_size=0.3, random_state=0)\n",
    "\n",
    "    lasso = Lasso(alpha=0.1, max_iter=1000).fit(X=X_train, y=y_train)\n",
    "  \n",
    "    print('LassoRegression을 이용한 %s의 회귀분석 결과 :'%item)\n",
    "    print('훈련세트점수 : {:.2f}'.format(lasso.score(X_train, y_train)) )\n",
    "    print('검증세트점수 : {:.2f}'.format(lasso.score(X_test, y_test)) )\n",
    "\n",
    "    #사용한 특성수\n",
    "    print('사용한 특성수 : {}'.format(np.sum(lasso.coef_ != 0)) )\n",
    "#########################################################################\n",
    "\n",
    "# 자료가 1일 1행이라는 전제하에\n",
    "# df길이를 이용하여 날짜수를 계산, 이후 2016년 1월1일을 1번째주 1일이라 기준하에\n",
    "# 몇번째 주인지 알려주는 컬럼 추가\n",
    "def addDayWeek(df):\n",
    "    df_work = df.copy()\n",
    "    df_work['day'] = pd.Series(range(1,df_work.shape[0]+1))\n",
    "    df_work['week'] = df_work['day'].apply(lambda x : math.ceil(x/7))\n",
    "    return df_work\n",
    "#########################################################################\n",
    "# 자료를 병합해주는 함수, 어떤 item인지 어느 컬럼을 기준으로 할지 받아서 병합\n",
    "def mergeForAnalysis(df1, df2, df3, item, on_what='date'):\n",
    "    merged_df = pd.merge(df1.loc[df1.category==item], df2, on=on_what, how='left')\n",
    "    merged_df = pd.merge(merged_df, df3, on=on_what, how='left')\n",
    "    return merged_df"
   ]
  },
  {
   "cell_type": "code",
   "execution_count": 3,
   "metadata": {},
   "outputs": [],
   "source": [
    "# 데이터 불러오기 (전처리 된 GS, 랄라블라, 날씨)\n",
    "gs = pd.read_csv('d:/project/contest/data/processed/p_gs.csv', parse_dates=['date'])\n",
    "lv = pd.read_csv('d:/project/contest/data/processed/p_lavla.csv', parse_dates=['date'])\n",
    "w = pd.read_csv('d:/project/contest/data/processed/p_wUVair_seoul.csv', parse_dates=['date'], index_col=0)\n",
    "sns_all = pd.read_csv('d:/project/contest/data/processed/social_all.csv', parse_dates=['date'])"
   ]
  },
  {
   "cell_type": "code",
   "execution_count": 4,
   "metadata": {},
   "outputs": [],
   "source": [
    "# GS/lv 서울시만\n",
    "gs_seoul = gs.loc[gs.pvn_nm =='서울특별시']\n",
    "lv_seoul = lv.loc[lv.pvn_nm =='서울특별시']\n",
    "w_seoul = w.loc[w['loc']==108]\n",
    "\n",
    "# 컬럼 이름을 변경하여 Series로 돌려주는 함수\n",
    "sns_all.columns = changeColNames(sns_all,'.','_')\n",
    "# ols formula입력시 오류 발생 방지를위해 컬럼명 문자열 내, 마침표(.)가 전부 underscore(_)로 변경\n",
    "# sns_all.columns\n",
    "\n",
    "cols_to_keep = ['date','bor_nm','gender','age_cd','category','qty']\n",
    "lv_grouped = lv_seoul[cols_to_keep].groupby(by=['date','bor_nm','category']).sum().reset_index()\n",
    "# lv_grouped.tail(2)"
   ]
  },
  {
   "cell_type": "markdown",
   "metadata": {},
   "source": [
    "랄라블라\n",
    "1. 선케어\n",
    "2. 바디로션\n",
    "3. 제모제\n",
    "\n",
    "GS\n",
    "1. 마스크\n",
    "2. 맥주\n",
    "3. 아이스크림"
   ]
  },
  {
   "cell_type": "markdown",
   "metadata": {},
   "source": [
    "# 선케어"
   ]
  },
  {
   "cell_type": "markdown",
   "metadata": {},
   "source": [
    "## 일단위 자료\n",
    "#### 함수를 만들기전, 함수에 들어갈 코딩을 위한 사전 작업"
   ]
  },
  {
   "cell_type": "code",
   "execution_count": 5,
   "metadata": {},
   "outputs": [
    {
     "name": "stdout",
     "output_type": "stream",
     "text": [
      "LinearRegression을 이용한 선케어의 회귀분석 결과 :\n",
      "훈련세트점수 : 0.43\n",
      "검증세트점수 : 0.46\n",
      "RidgeRegression을 이용한 선케어의 회귀분석 결과 :\n",
      "훈련세트점수 : 0.42\n",
      "검증세트점수 : 0.46\n",
      "LassoRegression을 이용한 선케어의 회귀분석 결과 :\n",
      "훈련세트점수 : 0.43\n",
      "검증세트점수 : 0.46\n",
      "사용한 특성수 : 12\n",
      "                            OLS Regression Results                            \n",
      "==============================================================================\n",
      "Dep. Variable:                    qty   R-squared:                       0.424\n",
      "Model:                            OLS   Adj. R-squared:                  0.421\n",
      "Method:                 Least Squares   F-statistic:                     160.4\n",
      "Date:                Thu, 11 Jul 2019   Prob (F-statistic):          8.30e-128\n",
      "Time:                        16:23:33   Log-Likelihood:                -10443.\n",
      "No. Observations:                1096   AIC:                         2.090e+04\n",
      "Df Residuals:                    1090   BIC:                         2.093e+04\n",
      "Df Model:                           5                                         \n",
      "Covariance Type:            nonrobust                                         \n",
      "================================================================================\n",
      "                   coef    std err          t      P>|t|      [0.025      0.975]\n",
      "--------------------------------------------------------------------------------\n",
      "Intercept    -1.619e+04   1373.068    -11.794      0.000   -1.89e+04   -1.35e+04\n",
      "temp            -8.9628     16.781     -0.534      0.593     -41.889      23.963\n",
      "sun_time      1675.4749    102.558     16.337      0.000    1474.241    1876.709\n",
      "cloud         -201.0089     34.053     -5.903      0.000    -267.825    -134.192\n",
      "health_total     0.0405      0.056      0.726      0.468      -0.069       0.150\n",
      "date_total       0.1298      0.214      0.607      0.544      -0.290       0.550\n",
      "==============================================================================\n",
      "Omnibus:                     1295.509   Durbin-Watson:                   0.869\n",
      "Prob(Omnibus):                  0.000   Jarque-Bera (JB):           189694.633\n",
      "Skew:                           5.798   Prob(JB):                         0.00\n",
      "Kurtosis:                      66.399   Cond. No.                     1.32e+05\n",
      "==============================================================================\n",
      "\n",
      "Warnings:\n",
      "[1] Standard Errors assume that the covariance matrix of the errors is correctly specified.\n",
      "[2] The condition number is large, 1.32e+05. This might indicate that there are\n",
      "strong multicollinearity or other numerical problems.\n"
     ]
    }
   ],
   "source": [
    "# 서울특별시 단위로 df조정(구단위 데이터 합치기)\n",
    "day_lv_grouped = lv_grouped.groupby(by=['date','category']).sum().reset_index()\n",
    "# day_lv_grouped.tail(3)\n",
    "\n",
    "# '선케어'만 골라서 날씨('w')df와 소셜('sns_all')df와 결합해 새로운 'day_gs_grouped_w_item'생성\n",
    "item = '선케어'\n",
    "day_lv_grouped_w_item = pd.merge(day_lv_grouped.loc[day_lv_grouped.category==item],w_seoul,on='date',how='left')\n",
    "day_lv_grouped_w_sns_item = pd.merge(day_lv_grouped_w_item, sns_all,on='date',how='left')\n",
    "\n",
    "# ind_vars = ['temp','humid','wind','sun_time']\n",
    "# ind_vars = ['temp','humid','wind','rain','snow','cloud','sun_time']\n",
    "# ind_vars = ['temp','humid','wind','rain','snow','cloud','sun_time'\n",
    "#                 ,'pm_total', 'health_total','br_total', 'hobby_total','date_total']\n",
    "\n",
    "ind_vars = ['temp','humid','wind','rain','snow','cloud','sun_time'\n",
    "             ,'pm_total', 'health_total','br_total', 'hobby_total','date_total']\n",
    "\n",
    "linReg(day_lv_grouped_w_sns_item,item,ind_vars)\n",
    "ridgeReg(day_lv_grouped_w_sns_item,item,ind_vars)\n",
    "lassoReg(day_lv_grouped_w_sns_item,item,ind_vars)\n",
    "\n",
    "Xy = day_lv_grouped_w_sns_item.loc[day_lv_grouped_w_sns_item['category']==item,ind_vars+['qty']]\n",
    "model = sm.OLS.from_formula(\"qty ~ temp + sun_time + cloud + health_total + date_total\", data=Xy)\n",
    "# model = sm.OLS.from_formula(\"qty ~ temp + humid + sun_time + rain\", data=Xy)\n",
    "# model = sm.OLS.from_formula(\"qty ~ temp\", data=Xy)\n",
    "\n",
    "print(model.fit().summary())"
   ]
  },
  {
   "cell_type": "markdown",
   "metadata": {},
   "source": [
    "## 주단위 자료 생성"
   ]
  },
  {
   "cell_type": "markdown",
   "metadata": {},
   "source": [
    "### 선케어만\n",
    "#### 자료생성 파트"
   ]
  },
  {
   "cell_type": "code",
   "execution_count": 6,
   "metadata": {},
   "outputs": [],
   "source": [
    "cols_to_keep = ['date','bor_nm','gender','age_cd','category','qty']\n",
    "\n",
    "# '선케어'만 골라서 날씨('w')df와 소셜('sns_all')df와 결합해 새로운 'week_gs_grouped'생성\n",
    "item = '선케어'\n",
    "week_lv_grouped = lv_grouped.groupby(by=['date','category']).sum().reset_index()\n",
    "# week_lv_grouped.tail(2)\n",
    "week_lv_grouped_gu =week_lv_grouped.loc[week_lv_grouped.category==item]\n",
    "# week_lv_grouped_gu.tail(3)\n",
    "\n",
    "# '마스크'만 골라서 날씨('w')df와 소셜('sns_all')df와 결합해 새로운 'week_gs_grouped'생성\n",
    "week_lv_grouped_item = week_lv_grouped.loc[week_lv_grouped.category==item].reset_index()\n",
    "# 이제 'week_lv_grouped_item'에 한 날짜에 한 item(선케어)만 들어가있는 df가 됨.\n",
    "\n",
    "week_lv_grouped_w_item = pd.merge(week_lv_grouped,w,on='date',how='left')\n",
    "week_lv_grouped_w_item_sns = pd.merge(week_lv_grouped_w_item,sns_all,on='date',how='left')\n",
    "# week_lv_grouped_w_item_sns.tail(2)\n",
    "\n",
    "\n",
    "week_w = addDayWeek(w_seoul)\n",
    "week_w = week_w.groupby('week').mean().reset_index()\n",
    "week_w.drop(columns=['loc','day','year','month','weekday','nth_week'], inplace=True)\n",
    "# week_w.tail(2)\n",
    "\n",
    "# sns자료는 2019년 4월달 자료 까지 있다.\n",
    "week_sns = addDayWeek(sns_all.loc[sns_all.date.between('2016-01-01','2018-12-31', inclusive=True)])\n",
    "# week_sns = week_sns.groupby('week').sum().reset_index()\n",
    "week_sns = week_sns.groupby('week').mean().reset_index()\n",
    "# week_sns.tail(2)\n",
    "\n",
    "check = addDayWeek(week_lv_grouped_item)\n",
    "check.drop(columns='index',inplace=True)\n",
    "# check = check[['week','category','qty']].groupby(by=['week','category']).sum().reset_index()\n",
    "check = check[['week','category','qty']].groupby(by=['week','category']).mean().reset_index()\n",
    "# check.tail()\n",
    "check_merged = mergeForAnalysis(check, week_w, week_sns, item, on_what='week')\n",
    "# check_merged.columns"
   ]
  },
  {
   "cell_type": "markdown",
   "metadata": {},
   "source": [
    "#### 예측모델 파트"
   ]
  },
  {
   "cell_type": "code",
   "execution_count": 7,
   "metadata": {},
   "outputs": [
    {
     "name": "stdout",
     "output_type": "stream",
     "text": [
      "LinearRegression을 이용한 선케어의 회귀분석 결과 :\n",
      "훈련세트점수 : 0.65\n",
      "검증세트점수 : 0.58\n",
      "RidgeRegression을 이용한 선케어의 회귀분석 결과 :\n",
      "훈련세트점수 : 0.64\n",
      "검증세트점수 : 0.54\n",
      "LassoRegression을 이용한 선케어의 회귀분석 결과 :\n",
      "훈련세트점수 : 0.65\n",
      "검증세트점수 : 0.58\n",
      "사용한 특성수 : 12\n",
      "\n",
      "                            OLS Regression Results                            \n",
      "==============================================================================\n",
      "Dep. Variable:                    qty   R-squared:                       0.371\n",
      "Model:                            OLS   Adj. R-squared:                  0.367\n",
      "Method:                 Least Squares   F-statistic:                     91.43\n",
      "Date:                Thu, 11 Jul 2019   Prob (F-statistic):           2.58e-17\n",
      "Time:                        16:23:39   Log-Likelihood:                -1475.2\n",
      "No. Observations:                 157   AIC:                             2954.\n",
      "Df Residuals:                     155   BIC:                             2960.\n",
      "Df Model:                           1                                         \n",
      "Covariance Type:            nonrobust                                         \n",
      "================================================================================\n",
      "                   coef    std err          t      P>|t|      [0.025      0.975]\n",
      "--------------------------------------------------------------------------------\n",
      "Intercept     1660.0631    336.162      4.938      0.000     996.012    2324.114\n",
      "I(temp ** 2)     7.8880      0.825      9.562      0.000       6.258       9.518\n",
      "==============================================================================\n",
      "Omnibus:                      101.038   Durbin-Watson:                   0.747\n",
      "Prob(Omnibus):                  0.000   Jarque-Bera (JB):              603.481\n",
      "Skew:                           2.392   Prob(JB):                    9.03e-132\n",
      "Kurtosis:                      11.328   Cond. No.                         585.\n",
      "==============================================================================\n",
      "\n",
      "Warnings:\n",
      "[1] Standard Errors assume that the covariance matrix of the errors is correctly specified.\n"
     ]
    }
   ],
   "source": [
    "ind_vars = ['temp','humid','wind','rain','snow','cloud','sun_time'\n",
    "             ,'pm_total', 'health_total','br_total', 'hobby_total','date_total']\n",
    "\n",
    "linReg(check_merged,item,ind_vars)\n",
    "ridgeReg(check_merged,item,ind_vars)\n",
    "lassoReg(check_merged,item,ind_vars)\n",
    "print('')\n",
    "# ols모델\n",
    "Xy = check_merged.loc[check_merged['category']==item, ind_vars+['qty']]\n",
    "\n",
    "model = sm.OLS.from_formula(\n",
    "    \"qty ~ I(temp**2)\"\n",
    "    , data=Xy)\n",
    "# model = sm.OLS.from_formula(\"qty ~ temp + pm_total + health_total \", data=Xy)\n",
    "\n",
    "print(model.fit().summary())"
   ]
  },
  {
   "cell_type": "markdown",
   "metadata": {},
   "source": [
    "# uv데이터를 사용해서 예측진행\n",
    "## uv 데이터 사용전 데이터 처리"
   ]
  },
  {
   "cell_type": "code",
   "execution_count": 8,
   "metadata": {},
   "outputs": [],
   "source": [
    "cols_to_keep = ['date','bor_nm','gender','age_cd','category','qty']\n",
    "\n",
    "# '선케어'만 골라서 날씨('w')df와 소셜('sns_all')df와 결합해 새로운 'week_gs_grouped'생성\n",
    "item = '선케어'\n",
    "week_lv_grouped = lv_grouped.groupby(by=['date','category']).sum().reset_index()\n",
    "# week_lv_grouped.tail(2)\n",
    "week_lv_grouped_gu =week_lv_grouped.loc[week_lv_grouped.category==item]\n",
    "# week_lv_grouped_gu.tail(3)\n",
    "\n",
    "# '마스크'만 골라서 날씨('w')df와 소셜('sns_all')df와 결합해 새로운 'week_gs_grouped'생성\n",
    "week_lv_grouped_item = week_lv_grouped.loc[week_lv_grouped.category==item].reset_index()\n",
    "# 이제 'week_lv_grouped_item'에 한 날짜에 한 item(선케어)만 들어가있는 df가 됨.\n",
    "\n",
    "week_lv_grouped_w_item = pd.merge(week_lv_grouped,w,on='date',how='left')\n",
    "week_lv_grouped_w_item_sns = pd.merge(week_lv_grouped_w_item,sns_all,on='date',how='left')\n",
    "# week_lv_grouped_w_item_sns.tail(2)\n",
    "\n",
    "\n",
    "week_w = addDayWeek(w_seoul)\n",
    "week_w = week_w.groupby('week').mean().reset_index()\n",
    "week_w.drop(columns=['loc','day','year','month','weekday','nth_week'], inplace=True)\n",
    "# week_w.tail(2)\n",
    "\n",
    "# sns자료는 2019년 4월달 자료 까지 있다.\n",
    "week_sns = addDayWeek(sns_all.loc[sns_all.date.between('2016-01-01','2018-12-31', inclusive=True)])\n",
    "# week_sns = week_sns.groupby('week').sum().reset_index()\n",
    "week_sns = week_sns.groupby('week').mean().reset_index()\n",
    "# week_sns.tail(2)\n",
    "\n",
    "check = addDayWeek(week_lv_grouped_item)\n",
    "check.drop(columns='index',inplace=True)\n",
    "# check = check[['week','category','qty']].groupby(by=['week','category']).sum().reset_index()\n",
    "check = check[['week','category','qty']].groupby(by=['week','category']).mean().reset_index()\n",
    "# check.tail()\n",
    "check_merged = mergeForAnalysis(check, week_w, week_sns, item, on_what='week')\n",
    "# check_merged.columns"
   ]
  },
  {
   "cell_type": "code",
   "execution_count": 14,
   "metadata": {},
   "outputs": [
    {
     "name": "stdout",
     "output_type": "stream",
     "text": [
      "UV 데이터 포함(결측치가 있는 주는 제거)\n",
      "\n",
      "LinearRegression을 이용한 선케어의 회귀분석 결과 :\n",
      "훈련세트점수 : 0.62\n",
      "검증세트점수 : 0.72\n",
      "RidgeRegression을 이용한 선케어의 회귀분석 결과 :\n",
      "훈련세트점수 : 0.60\n",
      "검증세트점수 : 0.77\n",
      "LassoRegression을 이용한 선케어의 회귀분석 결과 :\n",
      "훈련세트점수 : 0.62\n",
      "검증세트점수 : 0.72\n",
      "사용한 특성수 : 13\n",
      "\n",
      "                            OLS Regression Results                            \n",
      "==============================================================================\n",
      "Dep. Variable:                    qty   R-squared:                       0.592\n",
      "Model:                            OLS   Adj. R-squared:                  0.580\n",
      "Method:                 Least Squares   F-statistic:                     48.84\n",
      "Date:                Thu, 11 Jul 2019   Prob (F-statistic):           1.38e-19\n",
      "Time:                        16:24:54   Log-Likelihood:                -964.50\n",
      "No. Observations:                 105   AIC:                             1937.\n",
      "Df Residuals:                     101   BIC:                             1948.\n",
      "Df Model:                           3                                         \n",
      "Covariance Type:            nonrobust                                         \n",
      "===============================================================================\n",
      "                  coef    std err          t      P>|t|      [0.025      0.975]\n",
      "-------------------------------------------------------------------------------\n",
      "Intercept   -7650.7618   2244.443     -3.409      0.001   -1.21e+04   -3198.391\n",
      "temp         -168.7009     54.843     -3.076      0.003    -277.494     -59.908\n",
      "uv           2050.9513    236.486      8.673      0.000    1581.827    2520.076\n",
      "hobby_total     1.9565      0.799      2.448      0.016       0.371       3.542\n",
      "==============================================================================\n",
      "Omnibus:                       70.822   Durbin-Watson:                   1.422\n",
      "Prob(Omnibus):                  0.000   Jarque-Bera (JB):              453.374\n",
      "Skew:                           2.156   Prob(JB):                     3.56e-99\n",
      "Kurtosis:                      12.222   Cond. No.                     2.62e+04\n",
      "==============================================================================\n",
      "\n",
      "Warnings:\n",
      "[1] Standard Errors assume that the covariance matrix of the errors is correctly specified.\n",
      "[2] The condition number is large, 2.62e+04. This might indicate that there are\n",
      "strong multicollinearity or other numerical problems.\n"
     ]
    }
   ],
   "source": [
    "# uv데이터는 결측치가 많다.\n",
    "print('UV 데이터 포함(결측치가 있는 주는 제거)\\n')\n",
    "check_merged = check_merged.loc[check_merged.uv.notnull()]\n",
    "ind_vars = ['temp','humid','wind','rain','snow','cloud','sun_time', 'uv'\n",
    "             ,'pm_total', 'health_total','br_total', 'hobby_total','date_total']\n",
    "\n",
    "linReg(check_merged,item,ind_vars)\n",
    "ridgeReg(check_merged,item,ind_vars)\n",
    "lassoReg(check_merged,item,ind_vars)\n",
    "print('')\n",
    "# ols모델\n",
    "Xy = check_merged.loc[check_merged['category']==item, ind_vars+['qty']]\n",
    "\n",
    "model = sm.OLS.from_formula(\n",
    "    \"qty ~ temp + uv + hobby_total\"\n",
    "    , data=Xy)\n",
    "# model = sm.OLS.from_formula(\"qty ~ temp + pm_total + health_total \", data=Xy)\n",
    "\n",
    "print(model.fit().summary())"
   ]
  },
  {
   "cell_type": "code",
   "execution_count": 15,
   "metadata": {},
   "outputs": [
    {
     "data": {
      "text/plain": [
       "<function matplotlib.pyplot.show(*args, **kw)>"
      ]
     },
     "execution_count": 15,
     "metadata": {},
     "output_type": "execute_result"
    },
    {
     "data": {
      "image/png": "[encoded data removed]",
      "text/plain": [
       "<Figure size 432x288 with 1 Axes>"
      ]
     },
     "metadata": {},
     "output_type": "display_data"
    }
   ],
   "source": [
    "plt.scatter(Xy['uv'],Xy['qty'], c='r',s=200)\n",
    "\n",
    "Xy_no_outlier = Xy.copy()\n",
    "Xy_no_outlier['outlier'] = mad_based_outlier(Xy_no_outlier['qty'],thresh=1.5)\n",
    "Xy_no_outlier = Xy_no_outlier.loc[Xy_no_outlier.outlier==False]\n",
    "#Xy_no_outlier = Xy.loc[Xy.qty<12_000]\n",
    "\n",
    "plt.scatter(Xy_no_outlier['uv'],Xy_no_outlier['qty'], c='k',s=20)\n",
    "plt.show"
   ]
  },
  {
   "cell_type": "code",
   "execution_count": 16,
   "metadata": {},
   "outputs": [
    {
     "data": {
      "text/plain": [
       "<matplotlib.collections.PathCollection at 0x2688c02ae48>"
      ]
     },
     "execution_count": 16,
     "metadata": {},
     "output_type": "execute_result"
    },
    {
     "data": {
      "image/png": "[encoded data removed]",
      "text/plain": [
       "<Figure size 432x288 with 1 Axes>"
      ]
     },
     "metadata": {},
     "output_type": "display_data"
    }
   ],
   "source": [
    "plt.scatter(Xy_no_outlier['uv'],Xy_no_outlier['qty'], c='b',s=20)"
   ]
  },
  {
   "cell_type": "code",
   "execution_count": 17,
   "metadata": {},
   "outputs": [
    {
     "name": "stdout",
     "output_type": "stream",
     "text": [
      "                            OLS Regression Results                            \n",
      "==============================================================================\n",
      "Dep. Variable:                    qty   R-squared:                       0.640\n",
      "Model:                            OLS   Adj. R-squared:                  0.636\n",
      "Method:                 Least Squares   F-statistic:                     151.1\n",
      "Date:                Thu, 11 Jul 2019   Prob (F-statistic):           1.50e-20\n",
      "Time:                        16:25:18   Log-Likelihood:                -741.39\n",
      "No. Observations:                  87   AIC:                             1487.\n",
      "Df Residuals:                      85   BIC:                             1492.\n",
      "Df Model:                           1                                         \n",
      "Covariance Type:            nonrobust                                         \n",
      "==============================================================================\n",
      "                 coef    std err          t      P>|t|      [0.025      0.975]\n",
      "------------------------------------------------------------------------------\n",
      "Intercept    925.9228    232.724      3.979      0.000     463.204    1388.641\n",
      "I(uv ** 2)   105.0669      8.548     12.292      0.000      88.072     122.062\n",
      "==============================================================================\n",
      "Omnibus:                        7.267   Durbin-Watson:                   1.174\n",
      "Prob(Omnibus):                  0.026   Jarque-Bera (JB):                6.851\n",
      "Skew:                           0.559   Prob(JB):                       0.0325\n",
      "Kurtosis:                       3.799   Cond. No.                         48.1\n",
      "==============================================================================\n",
      "\n",
      "Warnings:\n",
      "[1] Standard Errors assume that the covariance matrix of the errors is correctly specified.\n"
     ]
    }
   ],
   "source": [
    "model = sm.OLS.from_formula(\n",
    "    \"qty ~ I(uv**2)\"\n",
    "    , data=Xy_no_outlier)\n",
    "\n",
    "\n",
    "# model = sm.OLS.from_formula(\"qty ~ temp + uv + pm_total + health_total \", data=Xy)\n",
    "ols_model = model.fit()\n",
    "\n",
    "print(ols_model.summary())"
   ]
  },
  {
   "cell_type": "code",
   "execution_count": 18,
   "metadata": {},
   "outputs": [
    {
     "data": {
      "image/png": "[encoded data removed]",
      "text/plain": [
       "<Figure size 432x288 with 1 Axes>"
      ]
     },
     "metadata": {},
     "output_type": "display_data"
    }
   ],
   "source": [
    "c1 = 109.8961\n",
    "intercept = 889.3919\n",
    "plt.scatter(Xy_no_outlier['uv'],Xy_no_outlier['qty'], c='b',s=20)\n",
    "uv_list = pd.Series(list(range(int(Xy_no_outlier.uv.min()),int(Xy_no_outlier.uv.max())+1)))\n",
    "plt.plot(uv_list, intercept + c1*(uv_list ** 2), c='k')\n",
    "plt.show()"
   ]
  },
  {
   "cell_type": "code",
   "execution_count": null,
   "metadata": {},
   "outputs": [],
   "source": []
  },
  {
   "cell_type": "code",
   "execution_count": null,
   "metadata": {},
   "outputs": [],
   "source": []
  },
  {
   "cell_type": "code",
   "execution_count": null,
   "metadata": {},
   "outputs": [],
   "source": []
  },
  {
   "cell_type": "code",
   "execution_count": 19,
   "metadata": {},
   "outputs": [
    {
     "data": {
      "text/plain": [
       "[<matplotlib.lines.Line2D at 0x2688c927b70>]"
      ]
     },
     "execution_count": 19,
     "metadata": {},
     "output_type": "execute_result"
    },
    {
     "data": {
      "image/png": "[encoded data removed]",
      "text/plain": [
       "<Figure size 1152x288 with 1 Axes>"
      ]
     },
     "metadata": {},
     "output_type": "display_data"
    }
   ],
   "source": [
    "# 일단위 3년간의 평균 uv지수 변화\n",
    "w_day_temp = w[['date','uv']]\n",
    "w_day_temp['day'] = pd.Series(range(1,w_day_temp.shape[0]+1))\n",
    "w_day_temp['week'] = w_day_temp['day'].apply(lambda x : math.ceil(x/7))\n",
    "plt.figure(figsize=(16,4))\n",
    "plt.plot(w_day_temp['date'],w_day_temp['uv'])"
   ]
  },
  {
   "cell_type": "code",
   "execution_count": 20,
   "metadata": {},
   "outputs": [
    {
     "data": {
      "text/plain": [
       "[<matplotlib.lines.Line2D at 0x2688c934ac8>]"
      ]
     },
     "execution_count": 20,
     "metadata": {},
     "output_type": "execute_result"
    },
    {
     "data": {
      "image/png": "[encoded data removed]",
      "text/plain": [
       "<Figure size 1152x288 with 1 Axes>"
      ]
     },
     "metadata": {},
     "output_type": "display_data"
    }
   ],
   "source": [
    "# 주단위 3년간의 평균 uv지수 변화\n",
    "w_week_temp = week_w[['week','uv']]\n",
    "plt.figure(figsize=(16,4))\n",
    "plt.plot(w_week_temp['week'],w_week_temp['uv'])"
   ]
  },
  {
   "cell_type": "code",
   "execution_count": null,
   "metadata": {},
   "outputs": [],
   "source": []
  },
  {
   "cell_type": "code",
   "execution_count": null,
   "metadata": {},
   "outputs": [],
   "source": []
  },
  {
   "cell_type": "code",
   "execution_count": null,
   "metadata": {},
   "outputs": [],
   "source": []
  },
  {
   "cell_type": "code",
   "execution_count": null,
   "metadata": {},
   "outputs": [],
   "source": []
  },
  {
   "cell_type": "code",
   "execution_count": null,
   "metadata": {},
   "outputs": [],
   "source": []
  }
 ],
 "metadata": {
  "kernelspec": {
   "display_name": "Python 3",
   "language": "python",
   "name": "python3"
  },
  "language_info": {
   "codemirror_mode": {
    "name": "ipython",
    "version": 3
   },
   "file_extension": ".py",
   "mimetype": "text/x-python",
   "name": "python",
   "nbconvert_exporter": "python",
   "pygments_lexer": "ipython3",
   "version": "3.6.5"
  }
 },
 "nbformat": 4,
 "nbformat_minor": 2
}
