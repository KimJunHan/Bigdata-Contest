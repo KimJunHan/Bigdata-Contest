{
 "cells": [
  {
   "cell_type": "code",
   "execution_count": 1,
   "metadata": {},
   "outputs": [],
   "source": [
    "# 필요한 기본 패키지 준비\n",
    "\n",
    "# 데이터 처리 필요 패키지\n",
    "import numpy as np\n",
    "import pandas as pd\n",
    "import datetime as dt\n",
    "\n",
    "# 시각화 필요 패키지\n",
    "%matplotlib inline\n",
    "from plotnine import *\n",
    "import folium\n",
    "import matplotlib\n",
    "import matplotlib.pyplot as plt\n",
    "from matplotlib import rc, font_manager\n",
    "import seaborn as sns\n",
    "\n",
    "\n",
    "# Machine Learning 분석 환경 준비\n",
    "\n",
    "# 전처리, 스케일링\n",
    "from sklearn.preprocessing import StandardScaler\n",
    "\n",
    "# 선형회귀분석\n",
    "from sklearn.linear_model import LinearRegression\n",
    "from sklearn.linear_model import Ridge\n",
    "from sklearn.linear_model import Lasso\n",
    "from scipy import stats\n",
    "\n",
    "# OLS회귀분석\n",
    "import statsmodels.api as sm\n",
    "\n",
    "# GAM 일반화가법모형\n",
    "# LinearGAM, LogisticGAM, PoissonGAM, GammaGAM, InvGuss\n",
    "from pygam import LinearGAM, LogisticGAM, PoissonGAM, GammaGAM\n",
    "\n",
    "# Boosting\n",
    "\n",
    "#데이터셋 분리\n",
    "from sklearn.model_selection import train_test_split\n",
    "\n",
    "\n",
    "\n",
    "# 한글 처리\n",
    "font_name = font_manager.FontProperties(fname='C:/Windows/Fonts/NanumGothicCoding.ttf').get_name()\n",
    "rc('font',family=font_name)\n",
    "\n",
    "# - 마이너스 사인 처리\n",
    "matplotlib.rcParams['axes.unicode_minus'] = False\n",
    "\n",
    "# jupyter notebook에서 warning 무시하기\n",
    "import warnings\n",
    "warnings.filterwarnings(\"ignore\")\n",
    "\n",
    "#########################################################################\n",
    "# MAD 기반 예제코드\n",
    "def mad_based_outlier(points, thresh=3.5):\n",
    "    if len(points.shape) == 1:\n",
    "        points = points[:,None]\n",
    "    median = np.median(points, axis=0)\n",
    "    diff = np.sum((points - median)**2, axis=-1)\n",
    "    diff = np.sqrt(diff)\n",
    "    med_abs_deviation = np.median(diff)\n",
    "    modified_z_score = 0.6745 * diff / med_abs_deviation\n",
    "    return modified_z_score > thresh \n",
    "\n",
    "# 출처: https://pythonanalysis.tistory.com/7 [Python 데이터 분석]\n",
    "#########################################################################\n",
    "\n",
    "# 소셜 데이터 처리를 위한 함수\n",
    "# 1. 모든 소셜 데이터 column들의 첫번째는 : 날짜다.\n",
    "# 2. 각 소셜데이터는 social_키워드.블로그/트위터/뉴스/총합 으로 되어 있다.\n",
    "def changeColNames(d,before, after) : \n",
    "    # 컬럼이름 시리즈로 만들어 반환\n",
    "    # 통합하기 쉽게, 모든 데이터들의 날짜컬럼 이름을 date로 통일\n",
    "    new_col_names = ['date']\n",
    "    new_col_names.extend(list(d.columns)[1:])\n",
    "    d.columns = new_col_names\n",
    "    return pd.Series(d.columns).apply(lambda x : x.replace(before,after))\n",
    "\n",
    "#########################################################################\n",
    "# modeling 함수로 만들어 처리하기\n",
    "def linReg(df, item, cols_using):\n",
    "    cols = cols_using\n",
    "    X = df.loc[df['category']==item, cols]\n",
    "    y = df.loc[df['category']==item,'qty']\n",
    "\n",
    "    X_train, X_test, y_train, y_test = train_test_split(X,y, test_size=0.3, random_state=0)\n",
    "\n",
    "    model = LinearRegression().fit(X_train, y_train)\n",
    "  \n",
    "    print('LinearRegression을 이용한 %s의 회귀분석 결과 :'%item)\n",
    "    print('훈련세트점수 : {:.2f}'.format(model.score(X_train, y_train)))\n",
    "    print('검증세트점수 : {:.2f}'.format(model.score(X_test, y_test)))\n",
    "\n",
    "    \n",
    "def ridgeReg(df, item, cols_using):\n",
    "    cols = cols_using\n",
    "    X = df.loc[df['category']==item,cols]\n",
    "    y = df.loc[df['category']==item,'qty']\n",
    "\n",
    "    X_train, X_test, y_train, y_test = train_test_split(X,y, test_size=0.3, random_state=0)\n",
    "\n",
    "    ridge = Ridge(alpha=0.1, normalize=True, random_state=0, tol=0.001).fit(X_train, y_train)\n",
    "    \n",
    "    print('RidgeRegression을 이용한 %s의 회귀분석 결과 :'%item)\n",
    "    print('훈련세트점수 : {:.2f}'.format(ridge.score(X_train, y_train)))\n",
    "    print('검증세트점수 : {:.2f}'.format(ridge.score(X_test, y_test)))\n",
    "\n",
    "\n",
    "def lassoReg(df, item, cols_using):\n",
    "    cols = cols_using\n",
    "    X = df.loc[df['category']==item,cols]\n",
    "    y = df.loc[df['category']==item,'qty']\n",
    "\n",
    "    X_train, X_test, y_train, y_test = train_test_split(X,y, test_size=0.3, random_state=0)\n",
    "\n",
    "    lasso = Lasso(alpha=0.1, max_iter=1000).fit(X=X_train, y=y_train)\n",
    "  \n",
    "    print('LassoRegression을 이용한 %s의 회귀분석 결과 :'%item)\n",
    "    print('훈련세트점수 : {:.2f}'.format(lasso.score(X_train, y_train)) )\n",
    "    print('검증세트점수 : {:.2f}'.format(lasso.score(X_test, y_test)) )\n",
    "\n",
    "    #사용한 특성수\n",
    "    print('사용한 특성수 : {}'.format(np.sum(lasso.coef_ != 0)) )\n",
    "#########################################################################\n",
    "\n",
    "# 자료가 1일 1행이라는 전제하에\n",
    "# df길이를 이용하여 날짜수를 계산, 이후 2016년 1월1일을 1번째주 1일이라 기준하에\n",
    "# 몇번째 주인지 알려주는 컬럼 추가\n",
    "def addDayWeek(df):\n",
    "    df_work = df.copy()\n",
    "    df_work['day'] = pd.Series(range(1,df_work.shape[0]+1))\n",
    "    # 첫주가 1부터 시작하게 하기 위해서 +1을 했다.\n",
    "    df_work['week'] = df_work['day'].apply(lambda x : x//7 +1)\n",
    "    return df_work\n",
    "#########################################################################\n",
    "# 자료를 병합해주는 함수, 어떤 item인지 어느 컬럼을 기준으로 할지 받아서 병합\n",
    "def mergeForAnalysis(df1, df2, df3, item, on_what='date'):\n",
    "    merged_df = pd.merge(df1.loc[df1.category==item], df2, on=on_what, how='left')\n",
    "    merged_df = pd.merge(merged_df, df3, on=on_what, how='left')\n",
    "    return merged_df\n",
    "\n",
    "# 데이터 불러오기 (전처리 된 GS, 랄라블라, 날씨)\n",
    "gs = pd.read_csv('d:/project/contest/data/processed/p_gs.csv', parse_dates=['date'])\n",
    "lv = pd.read_csv('d:/project/contest/data/processed/p_lavla.csv', parse_dates=['date'])\n",
    "w = pd.read_csv('d:/project/contest/data/processed/p_wUVair_seoul.csv', parse_dates=['date'], index_col=0)\n",
    "sns_all = pd.read_csv('d:/project/contest/data/processed/social_all.csv', parse_dates=['date'])\n",
    "\n",
    "# GS/lv 서울시만\n",
    "gs_seoul = gs.loc[gs.pvn_nm =='서울특별시']\n",
    "lv_seoul = lv.loc[lv.pvn_nm =='서울특별시']\n",
    "w_seoul = w.loc[w['loc']==108]\n",
    "\n",
    "# 컬럼 이름을 변경하여 Series로 돌려주는 함수\n",
    "sns_all.columns = changeColNames(sns_all,'.','_')\n",
    "# ols formula입력시 오류 발생 방지를위해 컬럼명 문자열 내, 마침표(.)가 전부 underscore(_)로 변경\n",
    "# sns_all.columns\n",
    "\n",
    "cols_to_keep = ['date','bor_nm','gender','age_cd','category','qty']\n",
    "lv_grouped = lv_seoul[cols_to_keep].groupby(by=['date','bor_nm','category']).sum().reset_index()\n",
    "# lv_grouped.tail(2)"
   ]
  },
  {
   "cell_type": "markdown",
   "metadata": {},
   "source": [
    "랄라블라\n",
    "1. 선케어\n",
    "2. 바디로션\n",
    "3. 제모제\n",
    "\n",
    "GS\n",
    "1. 마스크\n",
    "2. 맥주\n",
    "3. 아이스크림"
   ]
  },
  {
   "cell_type": "markdown",
   "metadata": {},
   "source": [
    "# 제모제"
   ]
  },
  {
   "cell_type": "markdown",
   "metadata": {},
   "source": [
    "## 일단위 자료\n",
    "#### 함수를 만들기전, 함수에 들어갈 코딩을 위한 사전 작업"
   ]
  },
  {
   "cell_type": "code",
   "execution_count": 2,
   "metadata": {},
   "outputs": [
    {
     "name": "stdout",
     "output_type": "stream",
     "text": [
      "LinearRegression을 이용한 제모제의 회귀분석 결과 :\n",
      "훈련세트점수 : 0.54\n",
      "검증세트점수 : 0.54\n",
      "RidgeRegression을 이용한 제모제의 회귀분석 결과 :\n",
      "훈련세트점수 : 0.53\n",
      "검증세트점수 : 0.54\n",
      "LassoRegression을 이용한 제모제의 회귀분석 결과 :\n",
      "훈련세트점수 : 0.54\n",
      "검증세트점수 : 0.54\n",
      "사용한 특성수 : 12\n",
      "                            OLS Regression Results                            \n",
      "==============================================================================\n",
      "Dep. Variable:                    qty   R-squared:                       0.534\n",
      "Model:                            OLS   Adj. R-squared:                  0.531\n",
      "Method:                 Least Squares   F-statistic:                     248.9\n",
      "Date:                Thu, 11 Jul 2019   Prob (F-statistic):          2.55e-177\n",
      "Time:                        15:02:09   Log-Likelihood:                -8898.3\n",
      "No. Observations:                1094   AIC:                         1.781e+04\n",
      "Df Residuals:                    1088   BIC:                         1.784e+04\n",
      "Df Model:                           5                                         \n",
      "Covariance Type:            nonrobust                                         \n",
      "================================================================================\n",
      "                   coef    std err          t      P>|t|      [0.025      0.975]\n",
      "--------------------------------------------------------------------------------\n",
      "Intercept    -5340.2507    340.409    -15.688      0.000   -6008.183   -4672.318\n",
      "temp             3.1664      4.166      0.760      0.447      -5.007      11.340\n",
      "sun_time       480.7180     25.431     18.903      0.000     430.820     530.616\n",
      "cloud          -15.9994      8.444     -1.895      0.058     -32.568       0.569\n",
      "health_total     0.0289      0.014      2.087      0.037       0.002       0.056\n",
      "date_total       0.1786      0.053      3.367      0.001       0.075       0.283\n",
      "==============================================================================\n",
      "Omnibus:                      730.436   Durbin-Watson:                   0.547\n",
      "Prob(Omnibus):                  0.000   Jarque-Bera (JB):            15174.359\n",
      "Skew:                           2.751   Prob(JB):                         0.00\n",
      "Kurtosis:                      20.396   Cond. No.                     1.32e+05\n",
      "==============================================================================\n",
      "\n",
      "Warnings:\n",
      "[1] Standard Errors assume that the covariance matrix of the errors is correctly specified.\n",
      "[2] The condition number is large, 1.32e+05. This might indicate that there are\n",
      "strong multicollinearity or other numerical problems.\n"
     ]
    }
   ],
   "source": [
    "# 서울특별시 단위로 df조정(구단위 데이터 합치기)\n",
    "day_lv_grouped = lv_grouped.groupby(by=['date','category']).sum().reset_index()\n",
    "# day_lv_grouped.tail(3)\n",
    "\n",
    "# '제모제'만 골라서 날씨('w')df와 소셜('sns_all')df와 결합해 새로운 'day_gs_grouped_w_item'생성\n",
    "item = '제모제'\n",
    "day_lv_grouped_w_item = pd.merge(day_lv_grouped.loc[day_lv_grouped.category==item],w_seoul,on='date',how='left')\n",
    "day_lv_grouped_w_sns_item = pd.merge(day_lv_grouped_w_item, sns_all,on='date',how='left')\n",
    "\n",
    "# ind_vars = ['temp','humid','wind','sun_time']\n",
    "# ind_vars = ['temp','humid','wind','rain','snow','cloud','sun_time']\n",
    "# ind_vars = ['temp','humid','wind','rain','snow','cloud','sun_time'\n",
    "#                 ,'pm_total', 'health_total','br_total', 'hobby_total','date_total']\n",
    "\n",
    "ind_vars = ['temp','humid','wind','rain','snow','cloud','sun_time'\n",
    "             ,'pm_total', 'health_total','br_total', 'hobby_total','date_total']\n",
    "\n",
    "linReg(day_lv_grouped_w_sns_item,item,ind_vars)\n",
    "ridgeReg(day_lv_grouped_w_sns_item,item,ind_vars)\n",
    "lassoReg(day_lv_grouped_w_sns_item,item,ind_vars)\n",
    "\n",
    "Xy = day_lv_grouped_w_sns_item.loc[day_lv_grouped_w_sns_item['category']==item,ind_vars+['qty']]\n",
    "model = sm.OLS.from_formula(\"qty ~ temp + sun_time + cloud + health_total + date_total\", data=Xy)\n",
    "# model = sm.OLS.from_formula(\"qty ~ temp + humid + sun_time + rain\", data=Xy)\n",
    "# model = sm.OLS.from_formula(\"qty ~ temp\", data=Xy)\n",
    "\n",
    "print(model.fit().summary())"
   ]
  },
  {
   "cell_type": "markdown",
   "metadata": {},
   "source": [
    "## 주단위 자료 생성"
   ]
  },
  {
   "cell_type": "markdown",
   "metadata": {},
   "source": [
    "#### 자료생성 파트"
   ]
  },
  {
   "cell_type": "code",
   "execution_count": 3,
   "metadata": {},
   "outputs": [],
   "source": [
    "cols_to_keep = ['date','bor_nm','gender','age_cd','category','qty']\n",
    "\n",
    "# '제모제'만 골라서 날씨('w')df와 소셜('sns_all')df와 결합해 새로운 'week_gs_grouped'생성\n",
    "item = '제모제'\n",
    "week_lv_grouped = lv_grouped.groupby(by=['date','category']).sum().reset_index()\n",
    "# week_lv_grouped.tail(2)\n",
    "week_lv_grouped_gu =week_lv_grouped.loc[week_lv_grouped.category==item]\n",
    "# week_lv_grouped_gu.tail(3)\n",
    "\n",
    "# '마스크'만 골라서 날씨('w')df와 소셜('sns_all')df와 결합해 새로운 'week_gs_grouped'생성\n",
    "week_lv_grouped_item = week_lv_grouped.loc[week_lv_grouped.category==item].reset_index()\n",
    "# 이제 'week_lv_grouped_item'에 한 날짜에 한 item(선케어)만 들어가있는 df가 됨.\n",
    "\n",
    "week_lv_grouped_w_item = pd.merge(week_lv_grouped,w,on='date',how='left')\n",
    "week_lv_grouped_w_item_sns = pd.merge(week_lv_grouped_w_item,sns_all,on='date',how='left')\n",
    "# week_lv_grouped_w_item_sns.tail(2)\n",
    "\n",
    "\n",
    "week_w = addDayWeek(w_seoul)\n",
    "week_w = week_w.groupby('week').mean().reset_index()\n",
    "week_w.drop(columns=['loc','day','year','month','weekday','nth_week'], inplace=True)\n",
    "# week_w.tail(2)\n",
    "\n",
    "# sns자료는 2019년 4월달 자료 까지 있다.\n",
    "week_sns = addDayWeek(sns_all.loc[sns_all.date.between('2016-01-01','2018-12-31', inclusive=True)])\n",
    "# week_sns = week_sns.groupby('week').sum().reset_index()\n",
    "week_sns = week_sns.groupby('week').mean().reset_index()\n",
    "# week_sns.tail(2)\n",
    "\n",
    "check = addDayWeek(week_lv_grouped_item)\n",
    "check.drop(columns='index',inplace=True)\n",
    "# check = check[['week','category','qty']].groupby(by=['week','category']).sum().reset_index()\n",
    "check = check[['week','category','qty']].groupby(by=['week','category']).mean().reset_index()\n",
    "# check.tail()\n",
    "check_merged = mergeForAnalysis(check, week_w, week_sns, item, on_what='week')\n",
    "# check_merged.columns"
   ]
  },
  {
   "cell_type": "markdown",
   "metadata": {},
   "source": [
    "#### 예측모델 파트"
   ]
  },
  {
   "cell_type": "code",
   "execution_count": 33,
   "metadata": {},
   "outputs": [
    {
     "name": "stdout",
     "output_type": "stream",
     "text": [
      "LinearRegression을 이용한 제모제의 회귀분석 결과 :\n",
      "훈련세트점수 : 0.76\n",
      "검증세트점수 : 0.59\n",
      "RidgeRegression을 이용한 제모제의 회귀분석 결과 :\n",
      "훈련세트점수 : 0.74\n",
      "검증세트점수 : 0.60\n",
      "LassoRegression을 이용한 제모제의 회귀분석 결과 :\n",
      "훈련세트점수 : 0.76\n",
      "검증세트점수 : 0.59\n",
      "사용한 특성수 : 12\n",
      "\n",
      "                            OLS Regression Results                            \n",
      "==============================================================================\n",
      "Dep. Variable:                    qty   R-squared:                       0.732\n",
      "Model:                            OLS   Adj. R-squared:                  0.698\n",
      "Method:                 Least Squares   F-statistic:                     20.98\n",
      "Date:                Thu, 11 Jul 2019   Prob (F-statistic):           2.37e-21\n",
      "Time:                        15:12:04   Log-Likelihood:                -805.91\n",
      "No. Observations:                 105   AIC:                             1638.\n",
      "Df Residuals:                      92   BIC:                             1672.\n",
      "Df Model:                          12                                         \n",
      "Covariance Type:            nonrobust                                         \n",
      "================================================================================\n",
      "                   coef    std err          t      P>|t|      [0.025      0.975]\n",
      "--------------------------------------------------------------------------------\n",
      "Intercept    -9059.1095   1263.789     -7.168      0.000   -1.16e+04   -6549.116\n",
      "temp           -14.8061     14.572     -1.016      0.312     -43.747      14.134\n",
      "humid           19.8137     12.102      1.637      0.105      -4.222      43.850\n",
      "wind           382.4435    179.484      2.131      0.036      25.972     738.915\n",
      "rain            -4.9141     11.542     -0.426      0.671     -27.837      18.009\n",
      "snow           412.7347    476.462      0.866      0.389    -533.561    1359.030\n",
      "cloud          -58.4669     46.957     -1.245      0.216    -151.728      34.794\n",
      "sun_time       569.8890     74.440      7.656      0.000     422.044     717.734\n",
      "pm_total        -0.0307      0.026     -1.184      0.240      -0.082       0.021\n",
      "health_total     0.1178      0.111      1.058      0.293      -0.103       0.339\n",
      "br_total        -0.0651      0.129     -0.507      0.613      -0.320       0.190\n",
      "hobby_total      0.3843      0.292      1.316      0.191      -0.196       0.964\n",
      "date_total       0.1090      0.284      0.383      0.702      -0.456       0.674\n",
      "==============================================================================\n",
      "Omnibus:                       11.846   Durbin-Watson:                   1.097\n",
      "Prob(Omnibus):                  0.003   Jarque-Bera (JB):               12.284\n",
      "Skew:                           0.787   Prob(JB):                      0.00215\n",
      "Kurtosis:                       3.573   Cond. No.                     2.85e+05\n",
      "==============================================================================\n",
      "\n",
      "Warnings:\n",
      "[1] Standard Errors assume that the covariance matrix of the errors is correctly specified.\n",
      "[2] The condition number is large, 2.85e+05. This might indicate that there are\n",
      "strong multicollinearity or other numerical problems.\n"
     ]
    }
   ],
   "source": [
    "ind_vars = ['temp','humid','wind','rain','snow','cloud','sun_time'\n",
    "             ,'pm_total', 'health_total','br_total', 'hobby_total','date_total']\n",
    "\n",
    "linReg(check_merged,item,ind_vars)\n",
    "ridgeReg(check_merged,item,ind_vars)\n",
    "lassoReg(check_merged,item,ind_vars)\n",
    "print('')\n",
    "# ols모델\n",
    "Xy = check_merged.loc[check_merged['category']==item, ind_vars+['qty']]\n",
    "\n",
    "model = sm.OLS.from_formula(\n",
    "    \"qty ~ temp + humid + wind + rain + snow + cloud + sun_time + pm_total + health_total + br_total + hobby_total + date_total\"\n",
    "    , data=Xy)\n",
    "# model = sm.OLS.from_formula(\"qty ~ temp + pm_total + health_total \", data=Xy)\n",
    "\n",
    "print(model.fit().summary())"
   ]
  },
  {
   "cell_type": "code",
   "execution_count": 31,
   "metadata": {
    "scrolled": false
   },
   "outputs": [
    {
     "name": "stdout",
     "output_type": "stream",
     "text": [
      "UV 데이터 포함(결측치가 있는 주는 제거)\n",
      "\n",
      "LinearRegression을 이용한 제모제의 회귀분석 결과 :\n",
      "훈련세트점수 : 0.76\n",
      "검증세트점수 : 0.57\n",
      "RidgeRegression을 이용한 제모제의 회귀분석 결과 :\n",
      "훈련세트점수 : 0.75\n",
      "검증세트점수 : 0.57\n",
      "LassoRegression을 이용한 제모제의 회귀분석 결과 :\n",
      "훈련세트점수 : 0.76\n",
      "검증세트점수 : 0.57\n",
      "사용한 특성수 : 13\n",
      "\n",
      "                            OLS Regression Results                            \n",
      "==============================================================================\n",
      "Dep. Variable:                    qty   R-squared:                       0.736\n",
      "Model:                            OLS   Adj. R-squared:                  0.698\n",
      "Method:                 Least Squares   F-statistic:                     19.52\n",
      "Date:                Thu, 11 Jul 2019   Prob (F-statistic):           6.12e-21\n",
      "Time:                        15:11:36   Log-Likelihood:                -805.19\n",
      "No. Observations:                 105   AIC:                             1638.\n",
      "Df Residuals:                      91   BIC:                             1676.\n",
      "Df Model:                          13                                         \n",
      "Covariance Type:            nonrobust                                         \n",
      "================================================================================\n",
      "                   coef    std err          t      P>|t|      [0.025      0.975]\n",
      "--------------------------------------------------------------------------------\n",
      "Intercept    -1.006e+04   1544.455     -6.514      0.000   -1.31e+04   -6992.564\n",
      "temp             5.4704     23.169      0.236      0.814     -40.552      51.493\n",
      "humid           17.4933     12.260      1.427      0.157      -6.859      41.846\n",
      "wind           430.6558    184.283      2.337      0.022      64.601     796.710\n",
      "rain           -11.9090     13.096     -0.909      0.366     -37.924      14.106\n",
      "snow           487.2351    480.368      1.014      0.313    -466.957    1441.427\n",
      "cloud          -83.0350     51.729     -1.605      0.112    -185.788      19.718\n",
      "sun_time       714.1917    148.289      4.816      0.000     419.633    1008.750\n",
      "uv            -186.5922    165.917     -1.125      0.264    -516.165     142.981\n",
      "pm_total        -0.0296      0.026     -1.142      0.257      -0.081       0.022\n",
      "health_total     0.1351      0.112      1.204      0.232      -0.088       0.358\n",
      "br_total        -0.0341      0.131     -0.260      0.796      -0.295       0.227\n",
      "hobby_total      0.2885      0.304      0.950      0.345      -0.315       0.892\n",
      "date_total       0.0436      0.290      0.151      0.881      -0.532       0.619\n",
      "==============================================================================\n",
      "Omnibus:                       11.422   Durbin-Watson:                   1.093\n",
      "Prob(Omnibus):                  0.003   Jarque-Bera (JB):               11.769\n",
      "Skew:                           0.780   Prob(JB):                      0.00278\n",
      "Kurtosis:                       3.503   Cond. No.                     3.50e+05\n",
      "==============================================================================\n",
      "\n",
      "Warnings:\n",
      "[1] Standard Errors assume that the covariance matrix of the errors is correctly specified.\n",
      "[2] The condition number is large, 3.5e+05. This might indicate that there are\n",
      "strong multicollinearity or other numerical problems.\n"
     ]
    }
   ],
   "source": [
    "# uv데이터는 결측치가 많다.\n",
    "print('UV 데이터 포함(결측치가 있는 주는 제거)\\n')\n",
    "check_merged = check_merged.loc[check_merged.uv.notnull()]\n",
    "ind_vars = ['temp','humid','wind','rain','snow','cloud','sun_time', 'uv'\n",
    "             ,'pm_total', 'health_total','br_total', 'hobby_total','date_total']\n",
    "\n",
    "linReg(check_merged,item,ind_vars)\n",
    "ridgeReg(check_merged,item,ind_vars)\n",
    "lassoReg(check_merged,item,ind_vars)\n",
    "print('')\n",
    "# ols모델\n",
    "Xy = check_merged.loc[check_merged['category']==item, ind_vars+['qty']]\n",
    "\n",
    "model = sm.OLS.from_formula(\n",
    "    \"qty ~ temp + humid + wind + rain + snow + cloud + sun_time + uv + pm_total + health_total + br_total + hobby_total + date_total\"\n",
    "    , data=Xy)\n",
    "\n",
    "# model = sm.OLS.from_formula(\n",
    "#     \"qty ~ uv + I(np.exp(sun_time))\"\n",
    "#     , data=Xy)\n",
    "\n",
    "\n",
    "\n",
    "# model = sm.OLS.from_formula(\"qty ~ temp + uv + pm_total + health_total \", data=Xy)\n",
    "\n",
    "print(model.fit().summary())"
   ]
  },
  {
   "cell_type": "code",
   "execution_count": 29,
   "metadata": {},
   "outputs": [
    {
     "data": {
      "text/plain": [
       "<function matplotlib.pyplot.show(*args, **kw)>"
      ]
     },
     "execution_count": 29,
     "metadata": {},
     "output_type": "execute_result"
    },
    {
     "data": {
      "image/png": "[encoded data removed]",
      "text/plain": [
       "<Figure size 432x288 with 1 Axes>"
      ]
     },
     "metadata": {},
     "output_type": "display_data"
    }
   ],
   "source": [
    "# uv지수 vs 판매량(주) : outlier(이상치)=red, 이상치 제거=black\n",
    "plt.scatter(Xy['uv'],Xy['qty'], c='r',s=200)\n",
    "\n",
    "Xy_no_outlier = Xy.loc[Xy.qty < 3000]\n",
    "plt.scatter(Xy_no_outlier['uv'],Xy_no_outlier['qty'], c='k',s=20)\n",
    "plt.show"
   ]
  },
  {
   "cell_type": "code",
   "execution_count": 30,
   "metadata": {},
   "outputs": [
    {
     "name": "stdout",
     "output_type": "stream",
     "text": [
      "                            OLS Regression Results                            \n",
      "==============================================================================\n",
      "Dep. Variable:                    qty   R-squared:                       0.724\n",
      "Model:                            OLS   Adj. R-squared:                  0.718\n",
      "Method:                 Least Squares   F-statistic:                     118.0\n",
      "Date:                Thu, 11 Jul 2019   Prob (F-statistic):           6.93e-26\n",
      "Time:                        15:10:50   Log-Likelihood:                -687.53\n",
      "No. Observations:                  93   AIC:                             1381.\n",
      "Df Residuals:                      90   BIC:                             1389.\n",
      "Df Model:                           2                                         \n",
      "Covariance Type:            nonrobust                                         \n",
      "===============================================================================\n",
      "                  coef    std err          t      P>|t|      [0.025      0.975]\n",
      "-------------------------------------------------------------------------------\n",
      "Intercept   -4887.6235    510.283     -9.578      0.000   -5901.389   -3873.858\n",
      "sun_time      409.6976     27.035     15.154      0.000     355.987     463.408\n",
      "hobby_total     0.3855      0.139      2.779      0.007       0.110       0.661\n",
      "==============================================================================\n",
      "Omnibus:                        4.415   Durbin-Watson:                   1.100\n",
      "Prob(Omnibus):                  0.110   Jarque-Bera (JB):                4.309\n",
      "Skew:                           0.524   Prob(JB):                        0.116\n",
      "Kurtosis:                       2.888   Cond. No.                     3.34e+04\n",
      "==============================================================================\n",
      "\n",
      "Warnings:\n",
      "[1] Standard Errors assume that the covariance matrix of the errors is correctly specified.\n",
      "[2] The condition number is large, 3.34e+04. This might indicate that there are\n",
      "strong multicollinearity or other numerical problems.\n"
     ]
    }
   ],
   "source": [
    "# 판매량(주)이 3000 이상인 이상치 제거 후 모델\n",
    "model = sm.OLS.from_formula(\n",
    "    \"qty ~ sun_time + hobby_total\"\n",
    "    , data=Xy_no_outlier)\n",
    "\n",
    "\n",
    "# model = sm.OLS.from_formula(\"qty ~ temp + uv + pm_total + health_total \", data=Xy_no_outlier)\n",
    "\n",
    "print(model.fit().summary())"
   ]
  },
  {
   "cell_type": "code",
   "execution_count": null,
   "metadata": {},
   "outputs": [],
   "source": []
  },
  {
   "cell_type": "code",
   "execution_count": null,
   "metadata": {},
   "outputs": [],
   "source": []
  },
  {
   "cell_type": "code",
   "execution_count": null,
   "metadata": {},
   "outputs": [],
   "source": []
  },
  {
   "cell_type": "code",
   "execution_count": null,
   "metadata": {},
   "outputs": [],
   "source": []
  },
  {
   "cell_type": "code",
   "execution_count": null,
   "metadata": {},
   "outputs": [],
   "source": []
  },
  {
   "cell_type": "code",
   "execution_count": null,
   "metadata": {},
   "outputs": [],
   "source": []
  },
  {
   "cell_type": "markdown",
   "metadata": {},
   "source": [
    "# 주단위 온도 변화량"
   ]
  },
  {
   "cell_type": "code",
   "execution_count": 191,
   "metadata": {},
   "outputs": [
    {
     "data": {
      "text/plain": [
       "[<matplotlib.lines.Line2D at 0x13712acb5f8>]"
      ]
     },
     "execution_count": 191,
     "metadata": {},
     "output_type": "execute_result"
    },
    {
     "data": {
      "image/png": "[encoded data removed]",
      "text/plain": [
       "<Figure size 1152x288 with 1 Axes>"
      ]
     },
     "metadata": {},
     "output_type": "display_data"
    }
   ],
   "source": [
    "# 일단위 3년간의 평균 기온 변화\n",
    "w_day_temp = w[['date','temp']]\n",
    "w_day_temp['day'] = pd.Series(range(1,w_day_temp.shape[0]+1))\n",
    "w_day_temp['week'] = w_day_temp['day'].apply(lambda x : x//7)\n",
    "plt.figure(figsize=(16,4))\n",
    "plt.plot(w_day_temp['date'],w_day_temp['temp'])"
   ]
  },
  {
   "cell_type": "code",
   "execution_count": 192,
   "metadata": {
    "scrolled": true
   },
   "outputs": [
    {
     "data": {
      "text/plain": [
       "[<matplotlib.lines.Line2D at 0x13712b88240>]"
      ]
     },
     "execution_count": 192,
     "metadata": {},
     "output_type": "execute_result"
    },
    {
     "data": {
      "image/png": "[encoded data removed]",
      "text/plain": [
       "<Figure size 1152x288 with 1 Axes>"
      ]
     },
     "metadata": {},
     "output_type": "display_data"
    }
   ],
   "source": [
    "# 주단위 3년간의 평균 기온 변화\n",
    "w_week_temp = week_w[['week','temp']]\n",
    "plt.figure(figsize=(16,4))\n",
    "plt.plot(w_week_temp['week'],w_week_temp['temp'])"
   ]
  }
 ],
 "metadata": {
  "kernelspec": {
   "display_name": "Python 3",
   "language": "python",
   "name": "python3"
  },
  "language_info": {
   "codemirror_mode": {
    "name": "ipython",
    "version": 3
   },
   "file_extension": ".py",
   "mimetype": "text/x-python",
   "name": "python",
   "nbconvert_exporter": "python",
   "pygments_lexer": "ipython3",
   "version": "3.6.5"
  }
 },
 "nbformat": 4,
 "nbformat_minor": 2
}
