{
 "cells": [
  {
   "cell_type": "code",
   "execution_count": 1,
   "metadata": {},
   "outputs": [],
   "source": [
    "# 필요한 기본 패키지 준비\n",
    "\n",
    "# 데이터 처리 필요 패키지\n",
    "import numpy as np\n",
    "import pandas as pd\n",
    "import datetime as dt\n",
    "import math\n",
    "\n",
    "# 시각화 필요 패키지\n",
    "%matplotlib inline\n",
    "from plotnine import *\n",
    "import folium\n",
    "import matplotlib\n",
    "import matplotlib.pyplot as plt\n",
    "from matplotlib import rc, font_manager\n",
    "import seaborn as sns\n",
    "\n",
    "\n",
    "# Machine Learning 분석 환경 준비\n",
    "\n",
    "# 전처리, 스케일링\n",
    "from sklearn.preprocessing import StandardScaler\n",
    "\n",
    "# 선형회귀분석\n",
    "from sklearn.linear_model import LinearRegression\n",
    "from sklearn.linear_model import Ridge\n",
    "from sklearn.linear_model import Lasso\n",
    "from scipy import stats\n",
    "\n",
    "# OLS회귀분석\n",
    "import statsmodels.api as sm\n",
    "\n",
    "# GAM 일반화가법모형\n",
    "# LinearGAM, LogisticGAM, PoissonGAM, GammaGAM, InvGuss\n",
    "from pygam import LinearGAM, LogisticGAM, PoissonGAM, GammaGAM\n",
    "\n",
    "# Boosting\n",
    "\n",
    "#데이터셋 분리\n",
    "from sklearn.model_selection import train_test_split\n",
    "\n",
    "\n",
    "\n",
    "# 한글 처리\n",
    "font_name = font_manager.FontProperties(fname='C:/Windows/Fonts/NanumGothicCoding.ttf').get_name()\n",
    "rc('font',family=font_name)\n",
    "\n",
    "# - 마이너스 사인 처리\n",
    "matplotlib.rcParams['axes.unicode_minus'] = False\n",
    "\n",
    "# jupyter notebook에서 warning 무시하기\n",
    "import warnings\n",
    "warnings.filterwarnings(\"ignore\")"
   ]
  },
  {
   "cell_type": "code",
   "execution_count": 2,
   "metadata": {},
   "outputs": [],
   "source": [
    "#########################################################################\n",
    "# MAD 기반 예제코드\n",
    "def mad_based_outlier(points, thresh=3.5):\n",
    "    if len(points.shape) == 1:\n",
    "        points = points[:,None]\n",
    "    median = np.median(points, axis=0)\n",
    "    diff = np.sum((points - median)**2, axis=-1)\n",
    "    diff = np.sqrt(diff)\n",
    "    med_abs_deviation = np.median(diff)\n",
    "    modified_z_score = 0.6745 * diff / med_abs_deviation\n",
    "    return modified_z_score > thresh \n",
    "\n",
    "# 출처: https://pythonanalysis.tistory.com/7 [Python 데이터 분석]\n",
    "#########################################################################\n",
    "\n",
    "# 소셜 데이터 처리를 위한 함수\n",
    "# 1. 모든 소셜 데이터 column들의 첫번째는 : 날짜다.\n",
    "# 2. 각 소셜데이터는 social_키워드.블로그/트위터/뉴스/총합 으로 되어 있다.\n",
    "def changeColNames(d,before, after) : \n",
    "    # 컬럼이름 시리즈로 만들어 반환\n",
    "    # 통합하기 쉽게, 모든 데이터들의 날짜컬럼 이름을 date로 통일\n",
    "    new_col_names = ['date']\n",
    "    new_col_names.extend(list(d.columns)[1:])\n",
    "    d.columns = new_col_names\n",
    "    return pd.Series(d.columns).apply(lambda x : x.replace(before,after))\n",
    "\n",
    "#########################################################################\n",
    "# modeling 함수로 만들어 처리하기\n",
    "def linReg(df, item, cols_using):\n",
    "    cols = cols_using\n",
    "    X = df.loc[df['category']==item, cols]\n",
    "    y = df.loc[df['category']==item,'qty']\n",
    "\n",
    "    X_train, X_test, y_train, y_test = train_test_split(X,y, test_size=0.3, random_state=0)\n",
    "\n",
    "    model = LinearRegression().fit(X_train, y_train)\n",
    "  \n",
    "    print('LinearRegression을 이용한 %s의 회귀분석 결과 :'%item)\n",
    "    print('훈련세트점수 : {:.2f}'.format(model.score(X_train, y_train)))\n",
    "    print('검증세트점수 : {:.2f}'.format(model.score(X_test, y_test)))\n",
    "\n",
    "    \n",
    "def ridgeReg(df, item, cols_using):\n",
    "    cols = cols_using\n",
    "    X = df.loc[df['category']==item,cols]\n",
    "    y = df.loc[df['category']==item,'qty']\n",
    "\n",
    "    X_train, X_test, y_train, y_test = train_test_split(X,y, test_size=0.3, random_state=0)\n",
    "\n",
    "    ridge = Ridge(alpha=0.1, normalize=True, random_state=0, tol=0.001).fit(X_train, y_train)\n",
    "    \n",
    "    print('RidgeRegression을 이용한 %s의 회귀분석 결과 :'%item)\n",
    "    print('훈련세트점수 : {:.2f}'.format(ridge.score(X_train, y_train)))\n",
    "    print('검증세트점수 : {:.2f}'.format(ridge.score(X_test, y_test)))\n",
    "\n",
    "\n",
    "def lassoReg(df, item, cols_using):\n",
    "    cols = cols_using\n",
    "    X = df.loc[df['category']==item,cols]\n",
    "    y = df.loc[df['category']==item,'qty']\n",
    "\n",
    "    X_train, X_test, y_train, y_test = train_test_split(X,y, test_size=0.3, random_state=0)\n",
    "\n",
    "    lasso = Lasso(alpha=0.1, max_iter=1000).fit(X=X_train, y=y_train)\n",
    "  \n",
    "    print('LassoRegression을 이용한 %s의 회귀분석 결과 :'%item)\n",
    "    print('훈련세트점수 : {:.2f}'.format(lasso.score(X_train, y_train)) )\n",
    "    print('검증세트점수 : {:.2f}'.format(lasso.score(X_test, y_test)) )\n",
    "\n",
    "    #사용한 특성수\n",
    "    print('사용한 특성수 : {}'.format(np.sum(lasso.coef_ != 0)) )\n",
    "#########################################################################\n",
    "\n",
    "# 자료가 1일 1행이라는 전제하에\n",
    "# df길이를 이용하여 날짜수를 계산, 이후 2016년 1월1일을 1번째주 1일이라 기준하에\n",
    "# 몇번째 주인지 알려주는 컬럼 추가\n",
    "def addDayWeek(df):\n",
    "    df_work = df.copy()\n",
    "    df_work['day'] = pd.Series(range(1,df_work.shape[0]+1))\n",
    "    df_work['week'] = df_work['day'].apply(lambda x : math.ceil(x/7))\n",
    "    return df_work\n",
    "#########################################################################\n",
    "# 자료를 병합해주는 함수, 어떤 item인지 어느 컬럼을 기준으로 할지 받아서 병합\n",
    "def mergeForAnalysis(df1, df2, df3, item, on_what='date'):\n",
    "    merged_df = pd.merge(df1.loc[df1.category==item], df2, on=on_what, how='left')\n",
    "    merged_df = pd.merge(merged_df, df3, on=on_what, how='left')\n",
    "    return merged_df"
   ]
  },
  {
   "cell_type": "code",
   "execution_count": 3,
   "metadata": {},
   "outputs": [],
   "source": [
    "# 데이터 불러오기 (전처리 된 GS, 랄라블라, 날씨)\n",
    "gs = pd.read_csv('d:/project/contest/data/processed/p_gs.csv', parse_dates=['date'])\n",
    "lv = pd.read_csv('d:/project/contest/data/processed/p_lavla.csv', parse_dates=['date'])\n",
    "w = pd.read_csv('d:/project/contest/data/processed/p_wUVair_seoul.csv', parse_dates=['date'], index_col=0)\n",
    "sns_all = pd.read_csv('d:/project/contest/data/processed/social_all.csv', parse_dates=['date'])"
   ]
  },
  {
   "cell_type": "code",
   "execution_count": 4,
   "metadata": {},
   "outputs": [],
   "source": [
    "# GS/lv 서울시만\n",
    "gs_seoul = gs.loc[gs.pvn_nm =='서울특별시']\n",
    "lv_seoul = lv.loc[lv.pvn_nm =='서울특별시']\n",
    "w_seoul = w.loc[w['loc']==108]\n",
    "\n",
    "# 컬럼 이름을 변경하여 Series로 돌려주는 함수\n",
    "sns_all.columns = changeColNames(sns_all,'.','_')\n",
    "# ols formula입력시 오류 발생 방지를위해 컬럼명 문자열 내, 마침표(.)가 전부 underscore(_)로 변경\n",
    "# sns_all.columns\n",
    "\n",
    "cols_to_keep = ['date','bor_nm','gender','age_cd','category','qty']\n",
    "gs_grouped = gs_seoul[cols_to_keep].groupby(by=['date','bor_nm','category']).sum().reset_index()\n",
    "# gs_grouped.tail(2)"
   ]
  },
  {
   "cell_type": "markdown",
   "metadata": {},
   "source": [
    "랄라블라\n",
    "1. 썬케어\n",
    "2. 바디로션\n",
    "3. 제모제\n",
    "\n",
    "GS\n",
    "1. 마스크\n",
    "2. 맥주\n",
    "3. 아이스크림"
   ]
  },
  {
   "cell_type": "markdown",
   "metadata": {},
   "source": [
    "## 일단위 자료\n",
    "#### 함수를 만들기전, 함수에 들어갈 코딩을 위한 사전 작업"
   ]
  },
  {
   "cell_type": "code",
   "execution_count": 5,
   "metadata": {},
   "outputs": [],
   "source": [
    "# 서울특별시 단위로 df조정(구단위 데이터 합치기)\n",
    "day_gs_grouped = gs_grouped.groupby(by=['date','category']).sum().reset_index()\n",
    "# day_gs_grouped.tail(3)"
   ]
  },
  {
   "cell_type": "code",
   "execution_count": 6,
   "metadata": {},
   "outputs": [],
   "source": [
    "# '마스크'만 골라서 날씨('w')df와 소셜('sns_all')df와 결합해 새로운 'day_gs_grouped_w_item'생성\n",
    "item = '마스크'\n",
    "day_gs_grouped_w_item = pd.merge(day_gs_grouped.loc[day_gs_grouped.category==item],w_seoul,on='date',how='left')\n",
    "day_gs_grouped_w_sns_item = pd.merge(day_gs_grouped_w_item, sns_all,on='date',how='left')"
   ]
  },
  {
   "cell_type": "code",
   "execution_count": 7,
   "metadata": {},
   "outputs": [
    {
     "name": "stdout",
     "output_type": "stream",
     "text": [
      "LinearRegression을 이용한 마스크의 회귀분석 결과 :\n",
      "훈련세트점수 : 0.79\n",
      "검증세트점수 : 0.80\n",
      "RidgeRegression을 이용한 마스크의 회귀분석 결과 :\n",
      "훈련세트점수 : 0.78\n",
      "검증세트점수 : 0.76\n",
      "LassoRegression을 이용한 마스크의 회귀분석 결과 :\n",
      "훈련세트점수 : 0.79\n",
      "검증세트점수 : 0.80\n",
      "사용한 특성수 : 12\n"
     ]
    }
   ],
   "source": [
    "# ind_vars = ['temp','humid','wind','sun_time']\n",
    "# ind_vars = ['temp','humid','wind','rain','snow','cloud','sun_time']\n",
    "# ind_vars = ['temp','humid','wind','rain','snow','cloud','sun_time'\n",
    "#                 ,'pm_total', 'health_total','br_total', 'hobby_total','date_total']\n",
    "\n",
    "ind_vars = ['temp','humid','wind','rain','snow','cloud','sun_time'\n",
    "             ,'pm_total', 'health_total','br_total', 'hobby_total','date_total']\n",
    "\n",
    "linReg(day_gs_grouped_w_sns_item,item,ind_vars)\n",
    "ridgeReg(day_gs_grouped_w_sns_item,item,ind_vars)\n",
    "lassoReg(day_gs_grouped_w_sns_item,item,ind_vars)"
   ]
  },
  {
   "cell_type": "code",
   "execution_count": 8,
   "metadata": {},
   "outputs": [
    {
     "name": "stdout",
     "output_type": "stream",
     "text": [
      "                            OLS Regression Results                            \n",
      "==============================================================================\n",
      "Dep. Variable:                    qty   R-squared:                       0.796\n",
      "Model:                            OLS   Adj. R-squared:                  0.796\n",
      "Method:                 Least Squares   F-statistic:                     1067.\n",
      "Date:                Thu, 11 Jul 2019   Prob (F-statistic):               0.00\n",
      "Time:                        16:17:25   Log-Likelihood:                -8021.7\n",
      "No. Observations:                1096   AIC:                         1.605e+04\n",
      "Df Residuals:                    1091   BIC:                         1.608e+04\n",
      "Df Model:                           4                                         \n",
      "Covariance Type:            nonrobust                                         \n",
      "================================================================================\n",
      "                   coef    std err          t      P>|t|      [0.025      0.975]\n",
      "--------------------------------------------------------------------------------\n",
      "Intercept     1673.0288     97.430     17.172      0.000    1481.858    1864.200\n",
      "humid            1.8991      0.798      2.379      0.018       0.333       3.466\n",
      "sun_time      -118.8071      6.507    -18.259      0.000    -131.574    -106.040\n",
      "pm_total         0.2553      0.004     63.988      0.000       0.247       0.263\n",
      "health_total    -0.0326      0.006     -5.360      0.000      -0.044      -0.021\n",
      "==============================================================================\n",
      "Omnibus:                      669.596   Durbin-Watson:                   1.243\n",
      "Prob(Omnibus):                  0.000   Jarque-Bera (JB):            25452.118\n",
      "Skew:                           2.205   Prob(JB):                         0.00\n",
      "Kurtosis:                      26.193   Cond. No.                     8.22e+04\n",
      "==============================================================================\n",
      "\n",
      "Warnings:\n",
      "[1] Standard Errors assume that the covariance matrix of the errors is correctly specified.\n",
      "[2] The condition number is large, 8.22e+04. This might indicate that there are\n",
      "strong multicollinearity or other numerical problems.\n"
     ]
    }
   ],
   "source": [
    "Xy = day_gs_grouped_w_sns_item.loc[day_gs_grouped_w_sns_item['category']==item,ind_vars+['qty']]\n",
    "model = sm.OLS.from_formula(\"qty ~ humid + sun_time + pm_total + health_total \", data=Xy)\n",
    "# model = sm.OLS.from_formula(\"qty ~ temp + humid + sun_time + rain\", data=Xy)\n",
    "# model = sm.OLS.from_formula(\"qty ~ temp\", data=Xy)\n",
    "\n",
    "print(model.fit().summary())"
   ]
  },
  {
   "cell_type": "markdown",
   "metadata": {},
   "source": [
    "## 주단위 자료 생성"
   ]
  },
  {
   "cell_type": "markdown",
   "metadata": {},
   "source": [
    "### 마스크만\n",
    "#### 자료생성 파트"
   ]
  },
  {
   "cell_type": "code",
   "execution_count": 9,
   "metadata": {},
   "outputs": [],
   "source": [
    "cols_to_keep = ['date','bor_nm','gender','age_cd','category','qty']\n",
    "week_gs_grouped = gs_seoul[cols_to_keep].copy()\n",
    "# week_gs_grouped.tail(2)\n",
    "\n",
    "# '아이스크림'만 골라서 날씨('w')df와 소셜('sns_all')df와 결합해 새로운 'week_gs_grouped'생성\n",
    "item = '마스크'\n",
    "week_gs_grouped = gs_grouped.groupby(by=['date','category']).sum().reset_index()\n",
    "week_gs_grouped.tail(2)\n",
    "week_gs_grouped_gu =week_gs_grouped.loc[week_gs_grouped.category==item]\n",
    "# week_gs_grouped_gu.tail(3)\n",
    "\n",
    "# '마스크'만 골라서 날씨('w')df와 소셜('sns_all')df와 결합해 새로운 'week_gs_grouped'생성\n",
    "week_gs_grouped_item = week_gs_grouped.loc[week_gs_grouped.category==item].reset_index()\n",
    "# 이제 'week_gs_grouped'에 한 날짜에 한 item(아이스크림)만 들어가있는 df가 됨.\n",
    "\n",
    "week_gs_grouped_w_item = pd.merge(week_gs_grouped,w,on='date',how='left')\n",
    "week_gs_grouped_w_item_sns = pd.merge(week_gs_grouped_w_item,sns_all,on='date',how='left')\n",
    "# week_gs_grouped_w_item_sns.tail(2)\n",
    "\n",
    "\n",
    "week_w = addDayWeek(w_seoul)\n",
    "week_w = week_w.groupby('week').mean().reset_index()\n",
    "week_w.drop(columns=['loc','day','year','month','weekday','nth_week'], inplace=True)\n",
    "# week_w.tail(2)\n",
    "\n",
    "# sns자료는 2019년 4월달 자료 까지 있다.\n",
    "week_sns = addDayWeek(sns_all.loc[sns_all.date.between('2016-01-01','2018-12-31', inclusive=True)])\n",
    "# week_sns = week_sns.groupby('week').sum().reset_index()\n",
    "week_sns = week_sns.groupby('week').mean().reset_index()\n",
    "# week_sns.tail(2)\n",
    "\n",
    "check = addDayWeek(week_gs_grouped_item)\n",
    "check.drop(columns='index',inplace=True)\n",
    "# check = check[['week','category','qty']].groupby(by=['week','category']).sum().reset_index()\n",
    "check = check[['week','category','qty']].groupby(by=['week','category']).mean().reset_index()\n",
    "# check.tail()\n",
    "check_merged = mergeForAnalysis(check, week_w, week_sns, item, on_what='week')\n",
    "# check_merged.columns"
   ]
  },
  {
   "cell_type": "markdown",
   "metadata": {},
   "source": [
    "#### 예측모델 파트"
   ]
  },
  {
   "cell_type": "code",
   "execution_count": 10,
   "metadata": {},
   "outputs": [
    {
     "name": "stdout",
     "output_type": "stream",
     "text": [
      "LinearRegression을 이용한 마스크의 회귀분석 결과 :\n",
      "훈련세트점수 : 0.91\n",
      "검증세트점수 : 0.81\n",
      "RidgeRegression을 이용한 마스크의 회귀분석 결과 :\n",
      "훈련세트점수 : 0.90\n",
      "검증세트점수 : 0.83\n",
      "LassoRegression을 이용한 마스크의 회귀분석 결과 :\n",
      "훈련세트점수 : 0.91\n",
      "검증세트점수 : 0.81\n",
      "사용한 특성수 : 12\n",
      "\n",
      "                            OLS Regression Results                            \n",
      "==============================================================================\n",
      "Dep. Variable:                    qty   R-squared:                       0.898\n",
      "Model:                            OLS   Adj. R-squared:                  0.895\n",
      "Method:                 Least Squares   F-statistic:                     334.1\n",
      "Date:                Thu, 11 Jul 2019   Prob (F-statistic):           3.41e-74\n",
      "Time:                        16:17:30   Log-Likelihood:                -1047.4\n",
      "No. Observations:                 157   AIC:                             2105.\n",
      "Df Residuals:                     152   BIC:                             2120.\n",
      "Df Model:                           4                                         \n",
      "Covariance Type:            nonrobust                                         \n",
      "================================================================================\n",
      "                   coef    std err          t      P>|t|      [0.025      0.975]\n",
      "--------------------------------------------------------------------------------\n",
      "Intercept      986.5281    224.624      4.392      0.000     542.739    1430.317\n",
      "humid            3.8516      1.844      2.088      0.038       0.208       7.495\n",
      "sun_time      -118.9866      9.914    -12.001      0.000    -138.575     -99.399\n",
      "pm_total         0.2375      0.007     34.361      0.000       0.224       0.251\n",
      "health_total     0.0358      0.021      1.674      0.096      -0.006       0.078\n",
      "==============================================================================\n",
      "Omnibus:                       47.797   Durbin-Watson:                   1.899\n",
      "Prob(Omnibus):                  0.000   Jarque-Bera (JB):              869.801\n",
      "Skew:                           0.418   Prob(JB):                    1.33e-189\n",
      "Kurtosis:                      14.501   Cond. No.                     1.33e+05\n",
      "==============================================================================\n",
      "\n",
      "Warnings:\n",
      "[1] Standard Errors assume that the covariance matrix of the errors is correctly specified.\n",
      "[2] The condition number is large, 1.33e+05. This might indicate that there are\n",
      "strong multicollinearity or other numerical problems.\n"
     ]
    }
   ],
   "source": [
    "ind_vars = ['temp','humid','wind','rain','snow','cloud','sun_time'\n",
    "             ,'pm_total', 'health_total','br_total', 'hobby_total','date_total']\n",
    "\n",
    "linReg(check_merged,item,ind_vars)\n",
    "ridgeReg(check_merged,item,ind_vars)\n",
    "lassoReg(check_merged,item,ind_vars)\n",
    "print('')\n",
    "# ols모델\n",
    "Xy = check_merged.loc[check_merged['category']==item, ind_vars+['qty']]\n",
    "\n",
    "model = sm.OLS.from_formula(\"qty ~ humid + sun_time + pm_total + health_total \", data=Xy)\n",
    "# model = sm.OLS.from_formula(\"qty ~ temp\", data=Xy)\n",
    "\n",
    "# 날씨랑 관련해서 다 넣었다가, P>|t|값이 0.05이하인 변수만 남기고 지움\n",
    "# model = sm.OLS.from_formula(\"qty ~ temp + sun_time + rain\", data=Xy)\n",
    "\n",
    "print(model.fit().summary())"
   ]
  },
  {
   "cell_type": "code",
   "execution_count": null,
   "metadata": {},
   "outputs": [],
   "source": []
  },
  {
   "cell_type": "code",
   "execution_count": null,
   "metadata": {},
   "outputs": [],
   "source": []
  },
  {
   "cell_type": "code",
   "execution_count": null,
   "metadata": {},
   "outputs": [],
   "source": []
  },
  {
   "cell_type": "code",
   "execution_count": null,
   "metadata": {},
   "outputs": [],
   "source": []
  },
  {
   "cell_type": "code",
   "execution_count": null,
   "metadata": {},
   "outputs": [],
   "source": []
  },
  {
   "cell_type": "code",
   "execution_count": null,
   "metadata": {},
   "outputs": [],
   "source": []
  },
  {
   "cell_type": "code",
   "execution_count": null,
   "metadata": {},
   "outputs": [],
   "source": []
  },
  {
   "cell_type": "code",
   "execution_count": null,
   "metadata": {},
   "outputs": [],
   "source": []
  },
  {
   "cell_type": "code",
   "execution_count": null,
   "metadata": {},
   "outputs": [],
   "source": []
  },
  {
   "cell_type": "code",
   "execution_count": null,
   "metadata": {},
   "outputs": [],
   "source": []
  },
  {
   "cell_type": "markdown",
   "metadata": {},
   "source": [
    "# 주단위 온도 변화량"
   ]
  },
  {
   "cell_type": "code",
   "execution_count": 11,
   "metadata": {},
   "outputs": [
    {
     "data": {
      "text/plain": [
       "[<matplotlib.lines.Line2D at 0x123857c60b8>]"
      ]
     },
     "execution_count": 11,
     "metadata": {},
     "output_type": "execute_result"
    },
    {
     "data": {
      "image/png": "[encoded data removed]",
      "text/plain": [
       "<Figure size 1152x288 with 1 Axes>"
      ]
     },
     "metadata": {},
     "output_type": "display_data"
    }
   ],
   "source": [
    "# 일단위 3년간의 평균 기온 변화\n",
    "w_day_temp = w[['date','temp']]\n",
    "w_day_temp['day'] = pd.Series(range(1,w_day_temp.shape[0]+1))\n",
    "w_day_temp['week'] = w_day_temp['day'].apply(lambda x : math.ceil(x/7))\n",
    "plt.figure(figsize=(16,4))\n",
    "plt.plot(w_day_temp['date'],w_day_temp['temp'])"
   ]
  },
  {
   "cell_type": "code",
   "execution_count": 12,
   "metadata": {
    "scrolled": true
   },
   "outputs": [
    {
     "data": {
      "text/plain": [
       "[<matplotlib.lines.Line2D at 0x12385b7d898>]"
      ]
     },
     "execution_count": 12,
     "metadata": {},
     "output_type": "execute_result"
    },
    {
     "data": {
      "image/png": "[encoded data removed]",
      "text/plain": [
       "<Figure size 1152x288 with 1 Axes>"
      ]
     },
     "metadata": {},
     "output_type": "display_data"
    }
   ],
   "source": [
    "# 주단위 3년간의 평균 기온 변화\n",
    "w_week_temp = week_w[['week','temp']]\n",
    "plt.figure(figsize=(16,4))\n",
    "plt.plot(w_week_temp['week'],w_week_temp['temp'])"
   ]
  },
  {
   "cell_type": "code",
   "execution_count": null,
   "metadata": {},
   "outputs": [],
   "source": []
  }
 ],
 "metadata": {
  "kernelspec": {
   "display_name": "Python 3",
   "language": "python",
   "name": "python3"
  },
  "language_info": {
   "codemirror_mode": {
    "name": "ipython",
    "version": 3
   },
   "file_extension": ".py",
   "mimetype": "text/x-python",
   "name": "python",
   "nbconvert_exporter": "python",
   "pygments_lexer": "ipython3",
   "version": "3.6.5"
  }
 },
 "nbformat": 4,
 "nbformat_minor": 2
}
