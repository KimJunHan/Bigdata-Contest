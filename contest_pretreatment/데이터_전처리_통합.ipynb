{
 "cells": [
  {
   "cell_type": "code",
   "execution_count": null,
   "metadata": {},
   "outputs": [],
   "source": [
    "# 데이터처리를 위한 패키지\n",
    "import pandas as pd\n",
    "import numpy as np\n",
    "\n",
    "# 날짜 처리를 위한 패키지\n",
    "import datetime as dt\n",
    "\n",
    "# 파일 위치 이름 가져오기 위한 패키지\n",
    "import glob\n",
    "\n",
    "# encoding 문제 해결을 위한 패키지\n",
    "import chardet"
   ]
  },
  {
   "cell_type": "code",
   "execution_count": null,
   "metadata": {},
   "outputs": [],
   "source": [
    "# air 데이터 병합\n",
    "air_2016_seoul = pd.read_csv('D:/project/contest/data/processed/air_2016_seoul.csv')\n",
    "air_2017_seoul = pd.read_csv('D:/project/contest/data/processed/air_2017_seoul.csv')\n",
    "air_2018_seoul = pd.read_csv('D:/project/contest/data/processed/air_2018_seoul.csv')\n",
    "air = pd.concat([air_2016_seoul,air_2017_seoul,air_2018_seoul], ignore_index=True)\n",
    "air.to_csv('D:/project/contest/data/processed/p_air.csv', encoding='utf-8')"
   ]
  },
  {
   "cell_type": "code",
   "execution_count": null,
   "metadata": {},
   "outputs": [],
   "source": [
    "weather = pd.read_csv('d:/project/contest/data/processed/p_weather.csv', parse_dates=['date'])\n",
    "uv = pd.read_csv('D:/project/contest/data/processed/p_uv.csv', parse_dates=['date'])\n",
    "\n",
    "# 서울시만 추출\n",
    "w_seoul = weather.loc[weather['loc']==108] # 서울(108)\n",
    "uv_seoul = uv.loc[uv['1단계']=='서울특별시']\n",
    "\n",
    "uv_seoul.columns = ['date', '지점번호', 'pvn_nm', 'bor_nm', 'uv', 'uv_after1', 'uv_after2']\n",
    "\n",
    "# 시단위 평균으로 병합\n",
    "uv_seoul = uv_seoul[['date', 'pvn_nm', 'uv']].groupby(['date', 'pvn_nm']).mean().reset_index()\n",
    "air_seoul = air.groupby(['date']).mean().reset_index()\n",
    "\n",
    "# 자외선지수 병합\n",
    "w_uv = pd.merge(weather, uv_seoul[['date','uv']], on='date',how='left')\n",
    "\n",
    "# 공기오염물질 병합\n",
    "w_uv_a = pd.merge(w_uv, air_seoul, on='date',how='left')\n",
    "\n",
    "# 서울만 중간저장\n",
    "w_uv_a.loc[w_uv_a['loc']==108].to_csv('D:/project/contest/data/processed/p_wUVair_seoul.csv', encoding='utf-8')"
   ]
  },
  {
   "cell_type": "code",
   "execution_count": null,
   "metadata": {},
   "outputs": [],
   "source": [
    "# 중간저장파일 불러오기\n",
    "# w_seoul = pd.read_csv('D:/project/contest/data/processed/p_wUVair_seoul.csv', index_col=0)\n",
    "w_seoul = w_uv_a.copy()\n",
    "\n",
    "# 전후의 평균치로 대체\n",
    "air_pollution = ['SO2', 'CO', 'O3', 'NO2', 'PM10', 'PM25']\n",
    "to_fillNaN = dict(w_seoul[air_pollution].loc[(w_seoul.date=='2017-12-30')|(w_seoul.date=='2018-01-01')].mean())\n",
    "w_seoul_airpol = w_seoul.iloc[:,-6:]\n",
    "w_seoul_airpol = w_seoul_airpol.fillna(value=to_fillNaN, limit=1)\n",
    "w_seoul[air_pollution] = w_seoul_airpol\n",
    "w_seoul.to_csv('D:/project/contest/data/processed/p_wUVair_seoul.csv', encoding='utf-8')"
   ]
  },
  {
   "cell_type": "code",
   "execution_count": null,
   "metadata": {},
   "outputs": [],
   "source": []
  },
  {
   "cell_type": "code",
   "execution_count": null,
   "metadata": {},
   "outputs": [],
   "source": []
  },
  {
   "cell_type": "code",
   "execution_count": null,
   "metadata": {},
   "outputs": [],
   "source": []
  },
  {
   "cell_type": "code",
   "execution_count": null,
   "metadata": {},
   "outputs": [],
   "source": []
  },
  {
   "cell_type": "code",
   "execution_count": null,
   "metadata": {},
   "outputs": [],
   "source": []
  },
  {
   "cell_type": "code",
   "execution_count": null,
   "metadata": {},
   "outputs": [],
   "source": []
  },
  {
   "cell_type": "code",
   "execution_count": null,
   "metadata": {},
   "outputs": [],
   "source": []
  }
 ],
 "metadata": {
  "kernelspec": {
   "display_name": "Python 3",
   "language": "python",
   "name": "python3"
  },
  "language_info": {
   "codemirror_mode": {
    "name": "ipython",
    "version": 3
   },
   "file_extension": ".py",
   "mimetype": "text/x-python",
   "name": "python",
   "nbconvert_exporter": "python",
   "pygments_lexer": "ipython3",
   "version": "3.6.5"
  }
 },
 "nbformat": 4,
 "nbformat_minor": 2
}
