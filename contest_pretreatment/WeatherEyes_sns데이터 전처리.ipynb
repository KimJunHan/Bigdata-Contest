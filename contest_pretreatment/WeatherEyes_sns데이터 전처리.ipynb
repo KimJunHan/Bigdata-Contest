{
 "cells": [
  {
   "cell_type": "markdown",
   "metadata": {},
   "source": [
    "# 환경준비"
   ]
  },
  {
   "cell_type": "code",
   "execution_count": 2,
   "metadata": {},
   "outputs": [],
   "source": [
    "# 필요한 기본 패키지 준비\n",
    "\n",
    "# 데이터 처리 필요 패키지\n",
    "import numpy as np\n",
    "import pandas as pd\n",
    "import datetime as dt\n",
    "\n",
    "# 시각화 필요 패키지\n",
    "%matplotlib inline\n",
    "from plotnine import *\n",
    "import folium\n",
    "import matplotlib\n",
    "import matplotlib.pyplot as plt\n",
    "from matplotlib import rc, font_manager\n",
    "import seaborn as sns\n",
    "\n",
    "\n",
    "# Machine Learning 분석 환경 준비\n",
    "\n",
    "# 전처리, 스케일링\n",
    "from sklearn.preprocessing import StandardScaler\n",
    "\n",
    "# 선형회귀분석\n",
    "from sklearn.linear_model import LinearRegression\n",
    "from sklearn.linear_model import Ridge\n",
    "from sklearn.linear_model import Lasso\n",
    "from scipy import stats\n",
    "\n",
    "# OLS회귀분석\n",
    "import statsmodels.api as sm\n",
    "\n",
    "# GAM 일반화가법모형\n",
    "# LinearGAM, LogisticGAM, PoissonGAM, GammaGAM, InvGuss\n",
    "from pygam import LinearGAM, LogisticGAM, PoissonGAM, GammaGAM\n",
    "\n",
    "# Boosting\n",
    "\n",
    "#데이터셋 분리\n",
    "from sklearn.model_selection import train_test_split\n",
    "\n",
    "\n",
    "\n",
    "# 한글 처리\n",
    "font_name = font_manager.FontProperties(fname='C:/Windows/Fonts/NanumGothicCoding.ttf').get_name()\n",
    "rc('font',family=font_name)\n",
    "\n",
    "# - 마이너스 사인 처리\n",
    "matplotlib.rcParams['axes.unicode_minus'] = False\n",
    "\n",
    "# jupyter notebook에서 warning 무시하기\n",
    "import warnings\n",
    "warnings.filterwarnings(\"ignore\")"
   ]
  },
  {
   "cell_type": "markdown",
   "metadata": {},
   "source": [
    "# 자체제작 함수 준비"
   ]
  },
  {
   "cell_type": "code",
   "execution_count": 3,
   "metadata": {},
   "outputs": [],
   "source": [
    "#########################################################################\n",
    "# MAD 기반 예제코드\n",
    "def mad_based_outlier(points, thresh=3.5):\n",
    "    if len(points.shape) == 1:\n",
    "        points = points[:,None]\n",
    "    median = np.median(points, axis=0)\n",
    "    diff = np.sum((points - median)**2, axis=-1)\n",
    "    diff = np.sqrt(diff)\n",
    "    med_abs_deviation = np.median(diff)\n",
    "    modified_z_score = 0.6745 * diff / med_abs_deviation\n",
    "    return modified_z_score > thresh \n",
    "\n",
    "# 출처: https://pythonanalysis.tistory.com/7 [Python 데이터 분석]\n",
    "#########################################################################\n",
    "\n",
    "# 소셜 데이터 처리를 위한 함수\n",
    "# 1. 모든 소셜 데이터 column들의 첫번째는 : 날짜다.\n",
    "# 2. 각 소셜데이터는 social_키워드.블로그/트위터/뉴스/총합 으로 되어 있다.\n",
    "def changeColNames(d) : \n",
    "    # 컬럼이름 리스트를 만들어 반환\n",
    "    # 통합하기 쉽게, 모든 데이터들의 날짜컬럼 이름을 date로 통일\n",
    "    new_col_names = ['date']\n",
    "    new_col_names.extend(list(d.columns)[1:])\n",
    "    d.columns = new_col_names\n",
    "    return pd.Series(d.columns).apply(lambda x : x.replace('social_',''))\n",
    "\n",
    "\n",
    "\n",
    "# 향후 OLS모델에 쓸지도...\n",
    "def formula_gen(deg, df):\n",
    "    func = \"qty ~ \"\n",
    "    for i in range(deg):\n",
    "        if i ==0:\n",
    "            prefix =\"\"\n",
    "        else:\n",
    "            prefix = \" + \"\n",
    "        func += prefix + \"I(temp**{})\".format(i+1)\n",
    "    model = sm.OLS.from_formula(func, data=df)\n",
    "    return model\n",
    "\n",
    "\n",
    "# modeling 함수로 만들어 처리하기\n",
    "def linReg(df, item):\n",
    "    col_to_use = ['temp','humid','wind','rain','snow','cloud','sun_time'\n",
    "                 ,'pm.total', 'health.total','br.total', 'hobby.total','date.total']\n",
    "    X = df.loc[df['category']==item,col_to_use]\n",
    "    y = df.loc[df['category']==item,'qty']\n",
    "\n",
    "    X_train, X_test, y_train, y_test = train_test_split(X,y, test_size=0.3, random_state=0)\n",
    "\n",
    "    model = LinearRegression().fit(X_train, y_train)\n",
    "  \n",
    "    print('LinearRegression을 이용한 %s의 회귀분석 결과 :'%item)\n",
    "    print('훈련세트점수 : {:.2f}'.format(model.score(X_train, y_train)))\n",
    "    print('검증세트점수 : {:.2f}'.format(model.score(X_test, y_test)))\n",
    "\n",
    "    \n",
    "def ridgeReg(df, item):\n",
    "    col_to_use = ['temp','humid','wind','rain','snow','cloud','sun_time'\n",
    "                 ,'pm.total', 'health.total','br.total', 'hobby.total','date.total']\n",
    "    X = df.loc[df['category']==item,col_to_use]\n",
    "    y = df.loc[df['category']==item,'qty']\n",
    "\n",
    "    X_train, X_test, y_train, y_test = train_test_split(X,y, test_size=0.3, random_state=0)\n",
    "\n",
    "    ridge = Ridge(alpha=0.1, normalize=True, random_state=0, tol=0.001).fit(X_train, y_train)\n",
    "    \n",
    "    print('RidgeRegression을 이용한 %s의 회귀분석 결과 :'%item)\n",
    "    print('훈련세트점수 : {:.2f}'.format(ridge.score(X_train, y_train)))\n",
    "    print('검증세트점수 : {:.2f}'.format(ridge.score(X_test, y_test)))\n",
    "\n",
    "\n",
    "def lassoReg(df, item):\n",
    "    col_to_use = ['temp','humid','wind','rain','snow','cloud','sun_time'\n",
    "                 ,'pm.total', 'health.total','br.total', 'hobby.total','date.total']\n",
    "    X = df.loc[df['category']==item,col_to_use]\n",
    "    y = df.loc[df['category']==item,'qty']\n",
    "\n",
    "    X_train, X_test, y_train, y_test = train_test_split(X,y, test_size=0.3, random_state=0)\n",
    "\n",
    "    lasso = Lasso(alpha=0.1, max_iter=1000).fit(X=X_train, y=y_train)\n",
    "  \n",
    "    print('LassoRegression을 이용한 %s의 회귀분석 결과 :'%item)\n",
    "    print('훈련세트점수 : {:.2f}'.format(lasso.score(X_train, y_train)) )\n",
    "    print('검증세트점수 : {:.2f}'.format(lasso.score(X_test, y_test)) )\n",
    "\n",
    "    #사용한 특성수\n",
    "    print('사용한 특성수 : {}'.format(np.sum(lasso.coef_ != 0)) )"
   ]
  },
  {
   "cell_type": "markdown",
   "metadata": {},
   "source": [
    "# 데이터 불러오기"
   ]
  },
  {
   "cell_type": "code",
   "execution_count": 4,
   "metadata": {},
   "outputs": [],
   "source": [
    "# 데이터 불러오기 (전처리 된 GS, 랄라블라, 날씨)\n",
    "gs = pd.read_csv('d:/project/contest/data/processed/p_gs.csv', parse_dates=['date'])\n",
    "lavla = pd.read_csv('d:/project/contest/data/processed/p_lavla.csv', parse_dates=['date'])\n",
    "weather = pd.read_csv('d:/project/contest/data/processed/p_weather.csv', parse_dates=['date'])"
   ]
  },
  {
   "cell_type": "code",
   "execution_count": 5,
   "metadata": {},
   "outputs": [
    {
     "name": "stdout",
     "output_type": "stream",
     "text": [
      "['종로구', '중구', '용산구', '성동구', '광진구', '동대문구', '중랑구', '성북구', '강북구', '도봉구', '노원구', '은평구', '서대문구', '마포구', '양천구', '강서구', '구로구', '금천구', '영등포구', '동작구', '관악구', '서초구', '강남구', '송파구', '강동구']\n"
     ]
    }
   ],
   "source": [
    "seoul_gu = list(gs[['pvn_nm','bor_nm']].loc[(gs['pvn_nm']=='서울특별시'),'bor_nm'].unique())\n",
    "print(seoul_gu)"
   ]
  },
  {
   "cell_type": "code",
   "execution_count": 6,
   "metadata": {},
   "outputs": [],
   "source": [
    "# 인덱스가 포함되어 있고(0번 컬럼에), 날짜컬럼(1)은 날짜로.\n",
    "social_pm = pd.read_csv('D:/project/contest/data/original/social_pm.csv',index_col=0, parse_dates=[1])\n",
    "social_health = pd.read_csv('d:/project/contest/data/original/social_health.csv',index_col=0, parse_dates=[1])\n",
    "social_date = pd.read_csv('d:/project/contest/data/original/social_date.csv',index_col=0, parse_dates=[1])\n",
    "social_br = pd.read_csv('d:/project/contest/data/original/social_br.csv',index_col=0, parse_dates=[1])\n",
    "social_hobby = pd.read_csv('d:/project/contest/data/original/social_hobby.csv',index_col=0, parse_dates=[1])"
   ]
  },
  {
   "cell_type": "markdown",
   "metadata": {},
   "source": [
    "# 소셜데이터 전처리"
   ]
  },
  {
   "cell_type": "code",
   "execution_count": 7,
   "metadata": {},
   "outputs": [],
   "source": [
    "# 컬럼명 단순화\n",
    "social_pm.columns = changeColNames(social_pm)\n",
    "social_health.columns = changeColNames(social_health)\n",
    "social_date.columns = changeColNames(social_date)\n",
    "social_br.columns = changeColNames(social_br)\n",
    "social_hobby.columns = changeColNames(social_hobby)"
   ]
  },
  {
   "cell_type": "code",
   "execution_count": 8,
   "metadata": {},
   "outputs": [
    {
     "name": "stdout",
     "output_type": "stream",
     "text": [
      "merging  health\n",
      "merging  date\n",
      "merging  br\n",
      "merging  hobby\n"
     ]
    }
   ],
   "source": [
    "# 한꺼번에 처리하기위해 소셜 데이터셋 리스트 생성\n",
    "collections = [social_health, social_date, social_br, social_hobby]\n",
    "\n",
    "# 전부 들어갈 데이터프레임\n",
    "social_all = social_pm.copy()\n",
    "for df in collections:\n",
    "    print('merging ', df.columns[1].split('.')[0])\n",
    "    social_all = social_all.merge(df, on='date',how='left')\n",
    "\n",
    "social_all.to_csv('D:/project/contest/data/processed/social_all.csv',encoding='utf-8', index=False)"
   ]
  }
 ],
 "metadata": {
  "kernelspec": {
   "display_name": "Python 3",
   "language": "python",
   "name": "python3"
  },
  "language_info": {
   "codemirror_mode": {
    "name": "ipython",
    "version": 3
   },
   "file_extension": ".py",
   "mimetype": "text/x-python",
   "name": "python",
   "nbconvert_exporter": "python",
   "pygments_lexer": "ipython3",
   "version": "3.6.5"
  }
 },
 "nbformat": 4,
 "nbformat_minor": 2
}
